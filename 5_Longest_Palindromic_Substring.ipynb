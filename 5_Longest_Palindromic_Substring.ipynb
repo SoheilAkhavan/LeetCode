{
  "nbformat": 4,
  "nbformat_minor": 0,
  "metadata": {
    "colab": {
      "name": "5. Longest Palindromic Substring",
      "version": "0.3.2",
      "provenance": [],
      "toc_visible": true
    },
    "kernelspec": {
      "name": "python3",
      "display_name": "Python 3"
    }
  },
  "cells": [
    {
      "metadata": {
        "id": "jrrCPOO0a6qQ",
        "colab_type": "text"
      },
      "cell_type": "markdown",
      "source": [
        "###Medium\n",
        "Given a string s, find the longest palindromic substring in s. You may assume that the maximum length of s is 1000.\n",
        "\n",
        "Example 1:\n",
        "\n",
        "Input: \"babad\"\n",
        "Output: \"bab\"\n",
        "Note: \"aba\" is also a valid answer.\n",
        "Example 2:\n",
        "\n",
        "Input: \"cbbd\"\n",
        "Output: \"bb\""
      ]
    },
    {
      "metadata": {
        "id": "VYyksiVUbVdI",
        "colab_type": "text"
      },
      "cell_type": "markdown",
      "source": [
        "\n",
        "\n",
        "---\n",
        "\n",
        "\n",
        "\n",
        "---\n",
        "\n",
        "\n",
        "NOTE :\n",
        "\n",
        "\n",
        "---\n",
        "\n",
        "\n",
        "\n",
        "---\n",
        "\n",
        "\n",
        "\n",
        "\n",
        "\n",
        "\n",
        "\n",
        "\n"
      ]
    },
    {
      "metadata": {
        "id": "ZaOosKWNYzkb",
        "colab_type": "code",
        "colab": {}
      },
      "cell_type": "code",
      "source": [
        "class Solution(object):\n",
        "    def longestPalindrome(self, s):\n",
        "        \"\"\"\n",
        "        :type s: str\n",
        "        :rtype: str\n",
        "        \"\"\"\n",
        "        if len(s) < 2:\n",
        "            return s\n",
        "\n",
        "        I, J = 0, 0\n",
        "        for i in range(len(s)):\n",
        "            for add in [0, 1]:\n",
        "                p, q = i, i + add\n",
        "                \n",
        "                while p >= 0 and q < len(s) and s[p] == s[q]:\n",
        "                    if q - p > J - I:\n",
        "                        I, J = p, q\n",
        "                        \n",
        "                    p -= 1\n",
        "                    q += 1\n",
        "        return s[I : J+1]\n",
        "        "
      ],
      "execution_count": 0,
      "outputs": []
    },
    {
      "metadata": {
        "id": "F6J4GQ4XaocP",
        "colab_type": "code",
        "colab": {}
      },
      "cell_type": "code",
      "source": [
        ""
      ],
      "execution_count": 0,
      "outputs": []
    }
  ]
}