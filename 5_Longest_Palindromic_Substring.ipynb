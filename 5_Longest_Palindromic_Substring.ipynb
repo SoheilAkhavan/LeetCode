{
  "nbformat": 4,
  "nbformat_minor": 0,
  "metadata": {
    "colab": {
      "name": "5. Longest Palindromic Substring",
      "version": "0.3.2",
      "provenance": [],
      "include_colab_link": true
    },
    "kernelspec": {
      "name": "python3",
      "display_name": "Python 3"
    }
  },
  "cells": [
    {
      "cell_type": "markdown",
      "metadata": {
        "id": "view-in-github",
        "colab_type": "text"
      },
      "source": [
        "<a href=\"https://colab.research.google.com/github/SoheilAkhavan/LeetCode/blob/master/5_Longest_Palindromic_Substring.ipynb\" target=\"_parent\"><img src=\"https://colab.research.google.com/assets/colab-badge.svg\" alt=\"Open In Colab\"/></a>"
      ]
    },
    {
      "metadata": {
        "id": "ntW7gr6EyQg0",
        "colab_type": "code",
        "colab": {}
      },
      "cell_type": "code",
      "source": [
        ""
      ],
      "execution_count": 0,
      "outputs": []
    },
    {
      "metadata": {
        "id": "TennfEczyRNr",
        "colab_type": "text"
      },
      "cell_type": "markdown",
      "source": [
        "5. Longest Palindromic Substring\n",
        "\n",
        "###Medium\n",
        "Given a string s, find the longest palindromic substring in s. You may assume that the maximum length of s is 1000.\n",
        "\n",
        "Example 1:\n",
        "\n",
        "Input: \"babad\"\n",
        "Output: \"bab\"\n",
        "Note: \"aba\" is also a valid answer.\n",
        "Example 2:\n",
        "\n",
        "Input: \"cbbd\"\n",
        "Output: \"bb\"\n",
        "\n",
        "---\n",
        "\n",
        "\n",
        "NOTE: \n",
        "\n",
        "---\n",
        "\n",
        "\n"
      ]
    },
    {
      "metadata": {
        "id": "PqQW1-lrygI-",
        "colab_type": "code",
        "colab": {}
      },
      "cell_type": "code",
      "source": [
        "class Solution(object):\n",
        "    def longestPalindrome(self, s):\n",
        "        \"\"\"\n",
        "        :type s: str\n",
        "        :rtype: str\n",
        "        \"\"\"\n",
        "        if len(s) < 2:\n",
        "            return s\n",
        "\n",
        "        I, J = 0, 0\n",
        "        for i in range(len(s)):\n",
        "            for add in [0, 1]:\n",
        "                p, q = i, i + add\n",
        "                \n",
        "                while p >= 0 and q < len(s) and s[p] == s[q]:\n",
        "                    if q - p > J - I:\n",
        "                        I, J = p, q\n",
        "                        \n",
        "                    p -= 1\n",
        "                    q += 1\n",
        "        return s[I : J+1]\n",
        "        "
      ],
      "execution_count": 0,
      "outputs": []
    },
    {
      "metadata": {
        "id": "WR-ltsLvykMI",
        "colab_type": "code",
        "colab": {}
      },
      "cell_type": "code",
      "source": [
        ""
      ],
      "execution_count": 0,
      "outputs": []
    }
  ]
}