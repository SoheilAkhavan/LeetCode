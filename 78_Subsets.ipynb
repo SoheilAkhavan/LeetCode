{
  "nbformat": 4,
  "nbformat_minor": 0,
  "metadata": {
    "colab": {
      "name": "78. Subsets",
      "version": "0.3.2",
      "provenance": [],
      "include_colab_link": true
    },
    "kernelspec": {
      "name": "python3",
      "display_name": "Python 3"
    }
  },
  "cells": [
    {
      "cell_type": "markdown",
      "metadata": {
        "id": "view-in-github",
        "colab_type": "text"
      },
      "source": [
        "<a href=\"https://colab.research.google.com/github/SoheilAkhavan/LeetCode/blob/master/78_Subsets.ipynb\" target=\"_parent\"><img src=\"https://colab.research.google.com/assets/colab-badge.svg\" alt=\"Open In Colab\"/></a>"
      ]
    },
    {
      "metadata": {
        "id": "jELAbxiordtM",
        "colab_type": "text"
      },
      "cell_type": "markdown",
      "source": [
        "**78**. Subsets\n",
        "###Medium\n",
        "\n",
        "Given a set of distinct integers, nums, return all possible subsets (the power set).\n",
        "\n",
        "Note: The solution set must not contain duplicate subsets.\n",
        "\n",
        "Example:\n",
        "\n",
        "Input: nums = [1,2,3]\n",
        "Output:\n",
        "[\n",
        "  [3],\n",
        "  [1],\n",
        "  [2],\n",
        "  [1,2,3],\n",
        "  [1,3],\n",
        "  [2,3],\n",
        "  [1,2],\n",
        "  []\n",
        "]\n",
        "\n",
        "\n",
        "---\n",
        "\n",
        "NOTE:   dfs problem\n",
        "\n",
        "---\n",
        "\n"
      ]
    },
    {
      "metadata": {
        "id": "LCkuEmJNrU_d",
        "colab_type": "code",
        "colab": {}
      },
      "cell_type": "code",
      "source": [
        "class Solution(object): \n",
        "    def subsets(self, nums): \n",
        "        \"\"\" \n",
        "        :type nums: List[int] \n",
        "        :rtype: List[List[int]] \n",
        "        \"\"\" \n",
        "        rec = [] \n",
        "        self.dfs(nums, 0, [], rec) \n",
        "        return rec \n",
        "         \n",
        "    def dfs(self, nums, start, path, rec): \n",
        "        rec.append(path[:]) \n",
        "        for i in range(start, len(nums)): \n",
        "            path.append(nums[i]) \n",
        "            self.dfs(nums, i + 1, path, rec) \n",
        "            path.pop() \n"
      ],
      "execution_count": 0,
      "outputs": []
    }
  ]
}