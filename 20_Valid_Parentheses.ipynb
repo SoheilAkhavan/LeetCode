{
  "nbformat": 4,
  "nbformat_minor": 0,
  "metadata": {
    "colab": {
      "name": "20. Valid Parentheses",
      "version": "0.3.2",
      "provenance": [],
      "toc_visible": true,
      "include_colab_link": true
    },
    "kernelspec": {
      "name": "python3",
      "display_name": "Python 3"
    }
  },
  "cells": [
    {
      "cell_type": "markdown",
      "metadata": {
        "id": "view-in-github",
        "colab_type": "text"
      },
      "source": [
        "<a href=\"https://colab.research.google.com/github/SoheilAkhavan/LeetCode/blob/master/20_Valid_Parentheses.ipynb\" target=\"_parent\"><img src=\"https://colab.research.google.com/assets/colab-badge.svg\" alt=\"Open In Colab\"/></a>"
      ]
    },
    {
      "metadata": {
        "id": "ilejI4h46EbI",
        "colab_type": "text"
      },
      "cell_type": "markdown",
      "source": [
        "20. Valid Parentheses\n",
        "\n",
        "###Easy\n",
        "Given a string containing just the characters '(', ')', '{', '}', '[' and ']', determine if the input string is valid.\n",
        "\n",
        "An input string is valid if:\n",
        "\n",
        "Open brackets must be closed by the same type of brackets.\n",
        "Open brackets must be closed in the correct order.\n",
        "Note that an empty string is also considered valid.\n",
        "\n",
        "Example 1:\n",
        "\n",
        "Input: \"()\"\n",
        "Output: true\n",
        "\n",
        "Example 2:\n",
        "\n",
        "Input: \"()[]{}\"\n",
        "Output: true\n",
        "\n",
        "Example 3:\n",
        "\n",
        "Input: \"(]\"\n",
        "Output: false\n",
        "\n",
        "Example 4:\n",
        "\n",
        "Input: \"([)]\"\n",
        "Output: false\n",
        "\n",
        "Example 5:\n",
        "\n",
        "Input: \"{[]}\"\n",
        "Output: true\n",
        "\n",
        "---\n",
        "\n",
        "\n",
        "NOTE: \n",
        "\n",
        "---\n",
        "\n"
      ]
    },
    {
      "metadata": {
        "id": "3K67lcoq6V8z",
        "colab_type": "code",
        "colab": {}
      },
      "cell_type": "code",
      "source": [
        "class Solution(object):\n",
        "    def isValid(self, s):\n",
        "        \"\"\"\n",
        "        :type s: str\n",
        "        :rtype: bool\n",
        "        \"\"\"\n",
        "        if not s:\n",
        "            return True\n",
        "        if len(s) == 1:\n",
        "            return False\n",
        "        \n",
        "        rec = {\")\":\"(\", \"]\": \"[\", \"}\":\"{\"}\n",
        "        stack = []\n",
        "        \n",
        "        for c in s:\n",
        "            if c in rec.values():\n",
        "                stack.append(c)\n",
        "            \n",
        "            else:\n",
        "                if stack and stack[-1] == rec[c]:\n",
        "                    stack.pop()\n",
        "                else:\n",
        "                    return False\n",
        "                \n",
        "        return len(stack) == 0"
      ],
      "execution_count": 0,
      "outputs": []
    },
    {
      "metadata": {
        "id": "q90W6lsn8t7f",
        "colab_type": "code",
        "colab": {}
      },
      "cell_type": "code",
      "source": [
        ""
      ],
      "execution_count": 0,
      "outputs": []
    }
  ]
}