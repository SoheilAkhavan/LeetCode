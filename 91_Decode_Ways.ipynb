{
  "nbformat": 4,
  "nbformat_minor": 0,
  "metadata": {
    "colab": {
      "name": "91. Decode Ways",
      "version": "0.3.2",
      "provenance": [],
      "include_colab_link": true
    },
    "kernelspec": {
      "name": "python3",
      "display_name": "Python 3"
    }
  },
  "cells": [
    {
      "cell_type": "markdown",
      "metadata": {
        "id": "view-in-github",
        "colab_type": "text"
      },
      "source": [
        "<a href=\"https://colab.research.google.com/github/SoheilAkhavan/LeetCode/blob/master/91_Decode_Ways.ipynb\" target=\"_parent\"><img src=\"https://colab.research.google.com/assets/colab-badge.svg\" alt=\"Open In Colab\"/></a>"
      ]
    },
    {
      "metadata": {
        "id": "lpNJ0VTh5V7l",
        "colab_type": "text"
      },
      "cell_type": "markdown",
      "source": [
        "**91**. Decode Ways\n",
        "####Medium\n",
        "\n",
        "A message containing letters from A-Z is being encoded to numbers using the following mapping:\n",
        "\n",
        "'A' -> 1\n",
        "'B' -> 2\n",
        "...\n",
        "'Z' -> 26\n",
        "Given a non-empty string containing only digits, determine the total number of ways to decode it.\n",
        "\n",
        "Example 1:\n",
        "\n",
        "Input: \"12\"\n",
        "\n",
        "Output: 2\n",
        "\n",
        "Explanation: It could be decoded as \"AB\" (1 2) or \"L\" (12).\n",
        "\n",
        "Example 2:\n",
        "\n",
        "Input: \"226\"\n",
        "\n",
        "Output: 3\n",
        "\n",
        "Explanation: It could be decoded as \"BZ\" (2 26), \"VF\" (22 6), or \"BBF\" (2 2 6).\n",
        "\n",
        "\n",
        "\n",
        "---\n",
        "\n",
        "NOTE:\n",
        "\n",
        "Corner case:\n",
        "\n",
        "s is empty or s[0] == \"0\" returns 0\n",
        "\n",
        "s length is 1, return 1\n",
        "\n",
        " \n",
        "\n",
        "P1: first two results\n",
        "\n",
        "P2: previous result\n",
        "\n",
        "Curr: current result\n",
        "\n",
        "If the current one is not 0, curr += p2\n",
        "\n",
        "If the previous and current ones are in [10, 26], curr += p1\n",
        "\n",
        "---\n",
        "\n",
        "\n"
      ]
    },
    {
      "metadata": {
        "id": "twOK3xSb5Sfo",
        "colab_type": "code",
        "colab": {}
      },
      "cell_type": "code",
      "source": [
        "class Solution(object):\n",
        "    def numDecodings(self, s):\n",
        "        \"\"\"\n",
        "        :type s: str\n",
        "        :rtype: int\n",
        "        \"\"\"\n",
        "        if not s or s[0] == \"0\":\n",
        "            return 0\n",
        "        if len(s) == 1:\n",
        "            return 1\n",
        "        \n",
        "        p1, p2 = 1, 1\n",
        "        curr = 0\n",
        "        \n",
        "        \n",
        "        for i in range(1, len(s)):\n",
        "            \n",
        "            curr = [0 ,p1][10 <= int(s[i-1:i+1]) <= 26] + [0 ,p2][int(s[i]) != 0] \n",
        "            p1, p2 = p2, curr\n",
        "            \n",
        "        return p2\n",
        "        "
      ],
      "execution_count": 0,
      "outputs": []
    },
    {
      "metadata": {
        "id": "YUwecdSFTb1b",
        "colab_type": "code",
        "colab": {}
      },
      "cell_type": "code",
      "source": [
        ""
      ],
      "execution_count": 0,
      "outputs": []
    }
  ]
}