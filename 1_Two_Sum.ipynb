{
  "nbformat": 4,
  "nbformat_minor": 0,
  "metadata": {
    "colab": {
      "name": "1. Two Sum",
      "version": "0.3.2",
      "provenance": [],
      "toc_visible": true
    },
    "kernelspec": {
      "name": "python3",
      "display_name": "Python 3"
    }
  },
  "cells": [
    {
      "metadata": {
        "id": "jrrCPOO0a6qQ",
        "colab_type": "text"
      },
      "cell_type": "markdown",
      "source": [
        "# EASY\n",
        "Given an array of integers, return indices of the two numbers such that they add up to a specific target.\n",
        "\n",
        "You may assume that each input would have exactly one solution, and you may not \n",
        "use the same element twice.\n",
        "\n",
        "Example:\n",
        "\n",
        "Given nums = [2, 7, 11, 15], target = 9,\n",
        "\n",
        "Because nums[0] + nums[1] = 2 + 7 = 9,\n",
        "return [0, 1]."
      ]
    },
    {
      "metadata": {
        "id": "VYyksiVUbVdI",
        "colab_type": "text"
      },
      "cell_type": "markdown",
      "source": [
        "\n",
        "\n",
        "---\n",
        "\n",
        "\n",
        "\n",
        "---\n",
        "\n",
        "\n",
        "NOTE :\n",
        "let's make dic name rec,\n",
        "key as target - number of nums \n",
        "and val  as index of number in nums\n",
        "\n",
        "---\n",
        "\n",
        "\n",
        "\n",
        "---\n",
        "\n",
        "\n",
        "\n",
        "\n",
        "\n",
        "\n",
        "\n",
        "\n"
      ]
    },
    {
      "metadata": {
        "id": "ZaOosKWNYzkb",
        "colab_type": "code",
        "colab": {}
      },
      "cell_type": "code",
      "source": [
        "class Solution(object):\n",
        "    def twoSum(self, nums, target):\n",
        "        \"\"\"\n",
        "        :type nums: List[int]\n",
        "        :type target: int\n",
        "        :rtype: List[int]\n",
        "        \"\"\"\n",
        "        \n",
        "        rec = {}\n",
        "        # key : n , val : i\n",
        "        for i,n in enumerate(nums):\n",
        "            if n in rec:\n",
        "                return [i, rec[n]]\n",
        "            else:\n",
        "                rec[target - n] = i\n",
        "        \n",
        "        return [-1, -1]"
      ],
      "execution_count": 0,
      "outputs": []
    },
    {
      "metadata": {
        "id": "F6J4GQ4XaocP",
        "colab_type": "code",
        "colab": {}
      },
      "cell_type": "code",
      "source": [
        ""
      ],
      "execution_count": 0,
      "outputs": []
    }
  ]
}