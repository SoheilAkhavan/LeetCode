{
  "nbformat": 4,
  "nbformat_minor": 0,
  "metadata": {
    "colab": {
      "name": "80. Remove Duplicates from Sorted Array II",
      "version": "0.3.2",
      "provenance": [],
      "include_colab_link": true
    },
    "kernelspec": {
      "name": "python3",
      "display_name": "Python 3"
    }
  },
  "cells": [
    {
      "cell_type": "markdown",
      "metadata": {
        "id": "view-in-github",
        "colab_type": "text"
      },
      "source": [
        "<a href=\"https://colab.research.google.com/github/SoheilAkhavan/LeetCode/blob/master/80_Remove_Duplicates_from_Sorted_Array_II.ipynb\" target=\"_parent\"><img src=\"https://colab.research.google.com/assets/colab-badge.svg\" alt=\"Open In Colab\"/></a>"
      ]
    },
    {
      "metadata": {
        "id": "CpXwvV223GGl",
        "colab_type": "text"
      },
      "cell_type": "markdown",
      "source": [
        "80. Remove Duplicates from Sorted Array II\n",
        "###Medium\n",
        "\n",
        "\n",
        "Given a sorted array nums, remove the duplicates in-place such that duplicates appeared at most twice and return the new length.\n",
        "\n",
        "Do not allocate extra space for another array, you must do this by modifying the input array in-place with O(1) extra memory.\n",
        "\n",
        "Example 1:\n",
        "\n",
        "Given nums = [1,1,1,2,2,3],\n",
        "\n",
        "Your function should return length = 5, with the first five elements of nums being 1, 1, 2, 2 and 3 respectively.\n",
        "\n",
        "It doesn't matter what you leave beyond the returned length.\n",
        "\n",
        "Example 2:\n",
        "\n",
        "Given nums = [0,0,1,1,1,1,2,3,3],\n",
        "\n",
        "Your function should return length = 7, with the first seven elements of nums being modified to 0, 0, 1, 1, 2, 3 and 3 respectively.\n",
        "\n",
        "It doesn't matter what values are set beyond the returned length.\n",
        "Clarification:\n",
        "\n",
        "Confused why the returned value is an integer but your answer is an array?\n",
        "\n",
        "Note that the input array is passed in by reference, which means modification to the input array will be known to the caller as well.\n",
        "\n",
        "Internally you can think of this:\n",
        "\n",
        "// nums is passed in by reference. (i.e., without making a copy)\n",
        "int len = removeDuplicates(nums);\n",
        "\n",
        "// any modification to nums in your function would be known by the caller.\n",
        "// using the length returned by your function, it prints the first len elements.\n",
        "for (int i = 0; i < len; i++) {\n",
        "    print(nums[i]);\n",
        "}\n",
        "\n",
        "\n",
        "\n",
        "---\n",
        "\n",
        "NOTE:\n",
        "\n",
        "Return true if the length is less than 2\n",
        "\n",
        "Slow starts at 1, fast starts at 2.\n",
        "\n",
        "[0,slow] maintain an array that meets the requirements\n",
        "\n",
        "If fast and slow point are not equal or fast and slow point to equal but not equal to slow-1, then slow+=1 then swap slow and fast\n",
        "\n",
        "\n",
        "---\n",
        "\n"
      ]
    },
    {
      "metadata": {
        "id": "PQwFVCXf3FGe",
        "colab_type": "code",
        "colab": {}
      },
      "cell_type": "code",
      "source": [
        "class Solution(object):\n",
        "    def removeDuplicates(self, nums):\n",
        "        \"\"\"\n",
        "        :type nums: List[int]\n",
        "        :rtype: int\n",
        "        \"\"\"\n",
        "        if len(nums) < 2:\n",
        "            return len(nums)\n",
        "        \n",
        "        slow = 1\n",
        "        for fast in range(2,len(nums)):\n",
        "            if nums[fast] != nums[slow] or nums[fast] != nums[slow-1]:\n",
        "                slow += 1\n",
        "                nums[fast], nums[slow] = nums[slow] , nums[fast]\n",
        "                \n",
        "        return slow + 1"
      ],
      "execution_count": 0,
      "outputs": []
    },
    {
      "metadata": {
        "id": "gB1IEA_omZU9",
        "colab_type": "code",
        "colab": {}
      },
      "cell_type": "code",
      "source": [
        ""
      ],
      "execution_count": 0,
      "outputs": []
    }
  ]
}