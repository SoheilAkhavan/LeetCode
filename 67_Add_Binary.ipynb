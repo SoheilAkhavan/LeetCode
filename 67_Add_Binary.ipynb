{
  "nbformat": 4,
  "nbformat_minor": 0,
  "metadata": {
    "colab": {
      "name": "67. Add Binary",
      "version": "0.3.2",
      "provenance": [],
      "include_colab_link": true
    },
    "kernelspec": {
      "name": "python3",
      "display_name": "Python 3"
    }
  },
  "cells": [
    {
      "cell_type": "markdown",
      "metadata": {
        "id": "view-in-github",
        "colab_type": "text"
      },
      "source": [
        "<a href=\"https://colab.research.google.com/github/SoheilAkhavan/LeetCode/blob/master/67_Add_Binary.ipynb\" target=\"_parent\"><img src=\"https://colab.research.google.com/assets/colab-badge.svg\" alt=\"Open In Colab\"/></a>"
      ]
    },
    {
      "metadata": {
        "id": "a88vUNDTWWWr",
        "colab_type": "text"
      },
      "cell_type": "markdown",
      "source": [
        "**67**. Add Binary\n",
        "\n",
        "###Easy\n",
        "Given two binary strings, return their sum (also a binary string).\n",
        "\n",
        "The input strings are both non-empty and contains only characters 1 or 0.\n",
        "\n",
        "Example 1:\n",
        "\n",
        "Input: a = \"11\", b = \"1\"\n",
        "Output: \"100\"\n",
        "Example 2:\n",
        "\n",
        "Input: a = \"1010\", b = \"1011\"\n",
        "Output: \"10101\"\n",
        "\n",
        "---\n",
        "\n",
        "\n",
        "NOTE: \n",
        "\n",
        "---\n",
        "\n"
      ]
    },
    {
      "metadata": {
        "id": "IjXOfqyCt6fB",
        "colab_type": "code",
        "colab": {}
      },
      "cell_type": "code",
      "source": [
        "class Solution(object):\n",
        "    def addBinary(self, a, b):\n",
        "        \"\"\"\n",
        "        :type a: str\n",
        "        :type b: str\n",
        "        :rtype: str\n",
        "        \"\"\"\n",
        "        \n",
        "        \n",
        "        if len(b) > len(a):\n",
        "            a, b = b, a\n",
        "        \n",
        "        \n",
        "        a = map(int, a[::-1])\n",
        "        b = map(int, b[::-1])\n",
        "        \n",
        "        rec = [0] * (len(a) + 1)\n",
        "        \n",
        "        for i in range(len(a)):\n",
        "            if i >= len(b):\n",
        "                rec[i] = a[i]\n",
        "            else:\n",
        "                rec[i] = a[i] + b[i]\n",
        "                \n",
        "                \n",
        "        carr = 0\n",
        "        ans = 0\n",
        "        \n",
        "        for i in range(len(rec)):\n",
        "            carr += rec[i]\n",
        "            rec[i] = carr % 2\n",
        "            carr = carr / 2\n",
        "            \n",
        "        k = len(rec) - 1\n",
        "        while k > 0 and rec[k] == 0:\n",
        "            k -= 1\n",
        "            \n",
        "        return ''.join(map(str,rec[:k+1][::-1]))\n",
        "            \n"
      ],
      "execution_count": 0,
      "outputs": []
    },
    {
      "metadata": {
        "id": "LkglTTcWyfWN",
        "colab_type": "code",
        "colab": {}
      },
      "cell_type": "code",
      "source": [
        ""
      ],
      "execution_count": 0,
      "outputs": []
    }
  ]
}