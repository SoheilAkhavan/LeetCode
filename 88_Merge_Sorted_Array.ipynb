{
  "nbformat": 4,
  "nbformat_minor": 0,
  "metadata": {
    "colab": {
      "name": "88. Merge Sorted Array",
      "version": "0.3.2",
      "provenance": [],
      "include_colab_link": true
    },
    "kernelspec": {
      "name": "python3",
      "display_name": "Python 3"
    }
  },
  "cells": [
    {
      "cell_type": "markdown",
      "metadata": {
        "id": "view-in-github",
        "colab_type": "text"
      },
      "source": [
        "<a href=\"https://colab.research.google.com/github/SoheilAkhavan/LeetCode/blob/master/88_Merge_Sorted_Array.ipynb\" target=\"_parent\"><img src=\"https://colab.research.google.com/assets/colab-badge.svg\" alt=\"Open In Colab\"/></a>"
      ]
    },
    {
      "metadata": {
        "id": "GmVI5ZnPsAL3",
        "colab_type": "text"
      },
      "cell_type": "markdown",
      "source": [
        "**88**. Merge Sorted Array\n",
        "####EASY\n",
        "\n",
        "Given two sorted integer arrays nums1 and nums2, merge nums2 into nums1 as one sorted array.\n",
        "\n",
        "Note:\n",
        "\n",
        "The number of elements initialized in nums1 and nums2 are m and n respectively.\n",
        "You may assume that nums1 has enough space (size that is greater or equal to m + n) to hold additional elements from nums2.\n",
        "Example:\n",
        "\n",
        "Input:\n",
        "nums1 = [1,2,3,0,0,0], m = 3\n",
        "nums2 = [2,5,6],       n = 3\n",
        "\n",
        "Output: [1,2,2,3,5,6]\n",
        "\n",
        "\n",
        "---\n",
        "\n",
        "NOTE:\n",
        "If nums2 is used up first, nums1 is already in place.\n",
        "at the end j has to be >= 0\n",
        "in ordet to cover the case which nums1 has no element and nums2 has 1 element \n",
        "\n",
        "---\n",
        "\n",
        "\n"
      ]
    },
    {
      "metadata": {
        "id": "sQLfNE6Tr6MC",
        "colab_type": "code",
        "colab": {}
      },
      "cell_type": "code",
      "source": [
        "class Solution(object):\n",
        "    def merge(self, nums1, m, nums2, n):\n",
        "        \"\"\"\n",
        "        :type nums1: List[int]\n",
        "        :type m: int\n",
        "        :type nums2: List[int]\n",
        "        :type n: int\n",
        "        :rtype: void Do not return anything, modify nums1 in-place instead.\n",
        "        \"\"\"\n",
        "        \n",
        "        \n",
        "        p = m + n - 1\n",
        "        i, j = m - 1, n - 1\n",
        "        \n",
        "        while i >= 0 and j >= 0:\n",
        "            if nums1[i] >= nums2[j]:\n",
        "                nums1[p] = nums1[i]\n",
        "                i -= 1\n",
        "            else:\n",
        "                nums1[p] = nums2[j]\n",
        "                j -= 1\n",
        "            \n",
        "            p -= 1\n",
        "            \n",
        "        \n",
        "        if j >= 0:\n",
        "            nums1[:j+1] = nums2[:j+1]\n",
        "            \n",
        "        "
      ],
      "execution_count": 0,
      "outputs": []
    },
    {
      "metadata": {
        "id": "yGbdN8Z8t9U4",
        "colab_type": "code",
        "colab": {}
      },
      "cell_type": "code",
      "source": [
        ""
      ],
      "execution_count": 0,
      "outputs": []
    }
  ]
}