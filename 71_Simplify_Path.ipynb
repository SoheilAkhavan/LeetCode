{
  "nbformat": 4,
  "nbformat_minor": 0,
  "metadata": {
    "colab": {
      "name": "71. Simplify Path",
      "version": "0.3.2",
      "provenance": [],
      "include_colab_link": true
    },
    "kernelspec": {
      "name": "python3",
      "display_name": "Python 3"
    }
  },
  "cells": [
    {
      "cell_type": "markdown",
      "metadata": {
        "id": "view-in-github",
        "colab_type": "text"
      },
      "source": [
        "<a href=\"https://colab.research.google.com/github/SoheilAkhavan/LeetCode/blob/master/71_Simplify_Path.ipynb\" target=\"_parent\"><img src=\"https://colab.research.google.com/assets/colab-badge.svg\" alt=\"Open In Colab\"/></a>"
      ]
    },
    {
      "metadata": {
        "id": "jzi2jNzmhWoW",
        "colab_type": "text"
      },
      "cell_type": "markdown",
      "source": [
        "**71**. Simplify Path\n",
        "###Medium\n",
        "Given an absolute path for a file (Unix-style), simplify it. Or in other words, convert it to the canonical path.\n",
        "\n",
        "In a UNIX-style file system, a period . refers to the current directory. Furthermore, a double period .. moves the directory up a level. For more information, see: Absolute path vs relative path in Linux/Unix\n",
        "\n",
        "Note that the returned canonical path must always begin with a slash /, and there must be only a single slash / between two directory names. The last directory name (if it exists) must not end with a trailing /. Also, the canonical path must be the shortest string representing the absolute path.\n",
        "\n",
        "\n",
        "Example 1:\n",
        "\n",
        "Input: \"/home/\"\n",
        "Output: \"/home\"\n",
        "Explanation: Note that there is no trailing slash after the last directory name.\n",
        "\n",
        "Example 2:\n",
        "\n",
        "Input: \"/../\"\n",
        "Output: \"/\"\n",
        "Explanation: Going one level up from the root directory is a no-op, as the root level is the highest level you can go.\n",
        "\n",
        "Example 3:\n",
        "\n",
        "Input: \"/home//foo/\"\n",
        "Output: \"/home/foo\"\n",
        "Explanation: In the canonical path, multiple consecutive slashes are replaced by a single one.\n",
        "\n",
        "Example 4:\n",
        "\n",
        "Input: \"/a/./b/../../c/\"\n",
        "Output: \"/c\"\n",
        "\n",
        "Example 5:\n",
        "\n",
        "Input: \"/a/../../b/../c//.//\"\n",
        "Output: \"/c\"\n",
        "\n",
        "Example 6:\n",
        "\n",
        "Input: \"/a//b////c/d//././/..\"\n",
        "Output: \"/a/b/c\"\n",
        "\n",
        "---\n",
        "\n",
        "\n",
        "NOTE: \n",
        "\n",
        "   making list of path by splititing the path by '/' by using filter command \n",
        "   at the end return  / + join of path by /\n",
        "\n",
        "---\n",
        "\n"
      ]
    },
    {
      "metadata": {
        "id": "MQH0CaQbjrxI",
        "colab_type": "code",
        "colab": {}
      },
      "cell_type": "code",
      "source": [
        "class Solution(object):\n",
        "    def simplifyPath(self, path):\n",
        "        \"\"\"\n",
        "        :type path: str\n",
        "        :rtype: str\n",
        "        \"\"\"\n",
        "        # making list of path by splititing the path by '/'\n",
        "        elems = filter(lambda x: x != \"\", path.split('/'))\n",
        "        \n",
        "        stack = []\n",
        "        \n",
        "        for e in elems:\n",
        "            if e == \"..\":\n",
        "                if stack:\n",
        "                    stack.pop()\n",
        "                else:\n",
        "                    continue\n",
        "            \n",
        "            elif e == '.':\n",
        "                continue\n",
        "                \n",
        "            else:\n",
        "                stack.append(e)\n",
        "            \n",
        "        return \"/\" + \"/\".join(stack)\n",
        "                \n",
        "        "
      ],
      "execution_count": 0,
      "outputs": []
    },
    {
      "metadata": {
        "id": "Gh1upGsumAxK",
        "colab_type": "code",
        "colab": {}
      },
      "cell_type": "code",
      "source": [
        ""
      ],
      "execution_count": 0,
      "outputs": []
    }
  ]
}