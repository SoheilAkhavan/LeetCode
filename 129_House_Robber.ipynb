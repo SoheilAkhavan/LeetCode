{
  "nbformat": 4,
  "nbformat_minor": 0,
  "metadata": {
    "colab": {
      "name": "129. House Robber",
      "version": "0.3.2",
      "provenance": [],
      "include_colab_link": true
    },
    "kernelspec": {
      "name": "python3",
      "display_name": "Python 3"
    }
  },
  "cells": [
    {
      "cell_type": "markdown",
      "metadata": {
        "id": "view-in-github",
        "colab_type": "text"
      },
      "source": [
        "<a href=\"https://colab.research.google.com/github/SoheilAkhavan/LeetCode/blob/master/129_House_Robber.ipynb\" target=\"_parent\"><img src=\"https://colab.research.google.com/assets/colab-badge.svg\" alt=\"Open In Colab\"/></a>"
      ]
    },
    {
      "metadata": {
        "id": "oScqLaOCQYn4",
        "colab_type": "text"
      },
      "cell_type": "markdown",
      "source": [
        "**129**. House Robber\n",
        "###Easy\n",
        "\n",
        "You are a professional robber planning to rob houses along a street. Each house has a certain amount of money stashed, the only constraint stopping you from robbing each of them is that adjacent houses have security system connected and it will automatically contact the police if two adjacent houses were broken into on the same night.\n",
        "\n",
        "Given a list of non-negative integers representing the amount of money of each house, determine the maximum amount of money you can rob tonight without alerting the police.\n",
        "\n",
        "Example 1:\n",
        "\n",
        "Input: [1,2,3,1]\n",
        "Output: 4\n",
        "\n",
        "Explanation: \n",
        "\n",
        "Rob house 1 (money = 1) and then rob house 3 (money = 3).\n",
        " \n",
        " Total amount you can rob = 1 + 3 = 4.\n",
        "             \n",
        "Example 2:\n",
        "\n",
        "Input: [2,7,9,3,1]\n",
        "Output: 12\n",
        "\n",
        "Explanation: Rob house 1 (money = 2), rob house 3 (money = 9) and rob house 5 (money = 1).\n",
        "             \n",
        "             Total amount you can rob = 2 + 9 + 1 = 12.\n",
        "\n",
        "---\n",
        "\n",
        "NOTE:\n",
        "\n",
        "rob        norob + n \n",
        "\n",
        "norob    max(rob, norob) \n",
        "\n",
        "\n",
        "---\n",
        "\n",
        "\n"
      ]
    },
    {
      "metadata": {
        "id": "0bYUO8HaQl5T",
        "colab_type": "code",
        "colab": {}
      },
      "cell_type": "code",
      "source": [
        "class Solution(object):\n",
        "    def rob(self, nums):\n",
        "        \"\"\"\n",
        "        :type nums: List[int]\n",
        "        :rtype: int\n",
        "        \"\"\"\n",
        "        if not nums:\n",
        "            return 0\n",
        "          \n",
        "        rob = 0\n",
        "        norob = 0\n",
        "        \n",
        "        for n in nums:\n",
        "          rob, norob = norob + n, max(rob, norob)\n",
        "          \n",
        "        return max(rob, norob)"
      ],
      "execution_count": 0,
      "outputs": []
    },
    {
      "metadata": {
        "id": "mGqLfyd_VWir",
        "colab_type": "code",
        "colab": {}
      },
      "cell_type": "code",
      "source": [
        ""
      ],
      "execution_count": 0,
      "outputs": []
    }
  ]
}