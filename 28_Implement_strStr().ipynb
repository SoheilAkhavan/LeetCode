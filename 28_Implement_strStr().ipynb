{
  "nbformat": 4,
  "nbformat_minor": 0,
  "metadata": {
    "colab": {
      "name": "28. Implement strStr()",
      "version": "0.3.2",
      "provenance": [],
      "include_colab_link": true
    },
    "kernelspec": {
      "name": "python3",
      "display_name": "Python 3"
    }
  },
  "cells": [
    {
      "cell_type": "markdown",
      "metadata": {
        "id": "view-in-github",
        "colab_type": "text"
      },
      "source": [
        "<a href=\"https://colab.research.google.com/github/SoheilAkhavan/LeetCode/blob/master/28_Implement_strStr().ipynb\" target=\"_parent\"><img src=\"https://colab.research.google.com/assets/colab-badge.svg\" alt=\"Open In Colab\"/></a>"
      ]
    },
    {
      "metadata": {
        "id": "aK6hdCVm-Zok",
        "colab_type": "text"
      },
      "cell_type": "markdown",
      "source": [
        "28. Implement strStr()\n",
        "\n",
        "###Easy\n",
        "Implement strStr().\n",
        "\n",
        "Return the index of the first occurrence of needle in haystack, or -1 if needle is not part of haystack.\n",
        "\n",
        "Example 1:\n",
        "\n",
        "Input: haystack = \"hello\", needle = \"ll\"\n",
        "Output: 2\n",
        "Example 2:\n",
        "\n",
        "Input: haystack = \"aaaaa\", needle = \"bba\"\n",
        "Output: -1\n",
        "Clarification:\n",
        "\n",
        "What should we return when needle is an empty string? This is a great question to ask during an interview.\n",
        "\n",
        "#####For the purpose of this problem, we will return 0 when needle is an empty string. This is consistent to C's strstr() and Java's indexOf().\n",
        "---\n",
        "\n",
        "\n",
        "NOTE:  it is best to write an example to see what range should to choose for for-loop\n",
        "\n",
        "---\n"
      ]
    },
    {
      "metadata": {
        "id": "Pv44-h-M-Wy3",
        "colab_type": "code",
        "colab": {}
      },
      "cell_type": "code",
      "source": [
        "class Solution(object):\n",
        "    def strStr(self, haystack, needle):\n",
        "        \"\"\"\n",
        "        :type haystack: str\n",
        "        :type needle: str\n",
        "        :rtype: int\n",
        "        \"\"\"\n",
        "        lh = len(haystack)\n",
        "        ln = len(needle)\n",
        "        \n",
        "        if ln == 0:\n",
        "            return 0\n",
        "        if ln > lh:\n",
        "            return -1\n",
        "        \n",
        "        for i in range(lh - ln + 1):\n",
        "            if haystack[i:i+ln] ==  needle:\n",
        "                return i\n",
        "        return -1"
      ],
      "execution_count": 0,
      "outputs": []
    },
    {
      "metadata": {
        "id": "4-Ih7u0WAAxv",
        "colab_type": "code",
        "colab": {}
      },
      "cell_type": "code",
      "source": [
        ""
      ],
      "execution_count": 0,
      "outputs": []
    }
  ]
}