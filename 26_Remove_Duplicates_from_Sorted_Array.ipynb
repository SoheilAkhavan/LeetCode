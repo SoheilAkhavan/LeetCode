{
  "nbformat": 4,
  "nbformat_minor": 0,
  "metadata": {
    "colab": {
      "name": "26. Remove Duplicates from Sorted Array",
      "version": "0.3.2",
      "provenance": [],
      "toc_visible": true,
      "include_colab_link": true
    },
    "kernelspec": {
      "name": "python3",
      "display_name": "Python 3"
    }
  },
  "cells": [
    {
      "cell_type": "markdown",
      "metadata": {
        "id": "view-in-github",
        "colab_type": "text"
      },
      "source": [
        "<a href=\"https://colab.research.google.com/github/SoheilAkhavan/LeetCode/blob/master/26_Remove_Duplicates_from_Sorted_Array.ipynb\" target=\"_parent\"><img src=\"https://colab.research.google.com/assets/colab-badge.svg\" alt=\"Open In Colab\"/></a>"
      ]
    },
    {
      "metadata": {
        "id": "Snws4MRA90vY",
        "colab_type": "text"
      },
      "cell_type": "markdown",
      "source": [
        "26. Remove Duplicates from Sorted Array\n",
        "###Easy\n",
        "Given a sorted array nums, remove the duplicates in-place such that each element appear only once and return the new length.\n",
        "\n",
        "Do not allocate extra space for another array, you must do this by modifying the input array in-place with O(1) extra memory.\n",
        "\n",
        "Example 1:\n",
        "\n",
        "Given nums = [1,1,2],\n",
        "\n",
        "Your function should return length = 2, with the first two elements of nums being 1 and 2 respectively.\n",
        "\n",
        "It doesn't matter what you leave beyond the returned length.\n",
        "Example 2:\n",
        "\n",
        "Given nums = [0,0,1,1,1,2,2,3,3,4],\n",
        "\n",
        "Your function should return length = 5, with the first five elements of nums being modified to 0, 1, 2, 3, and 4 respectively.\n",
        "\n",
        "It doesn't matter what values are set beyond the returned length.\n",
        "Clarification:\n",
        "\n",
        "Confused why the returned value is an integer but your answer is an array?\n",
        "\n",
        "Note that the input array is passed in by reference, which means modification to the input array will be known to the caller as well.\n",
        "\n",
        "Internally you can think of this:\n",
        "\n",
        "// nums is passed in by reference. (i.e., without making a copy)\n",
        "int len = removeDuplicates(nums);\n",
        "\n",
        "// any modification to nums in your function would be known by the caller.\n",
        "// using the length returned by your function, it prints the first len elements.\n",
        "for (int i = 0; i < len; i++) {\n",
        "    print(nums[i]);\n",
        "}\n",
        "\n",
        "---\n",
        "\n",
        "\n",
        "NOTE:  \n",
        "\n",
        "\n",
        "---\n"
      ]
    },
    {
      "metadata": {
        "id": "1y7kuD2U-JJQ",
        "colab_type": "code",
        "colab": {}
      },
      "cell_type": "code",
      "source": [
        "class Solution(object):\n",
        "    def removeDuplicates(self, nums):\n",
        "        \"\"\"\n",
        "        :type nums: List[int]\n",
        "        :rtype: int\n",
        "        \"\"\"\n",
        "        if not nums:\n",
        "            return 0\n",
        "        if len(nums) == 1:\n",
        "            return 1\n",
        "        \n",
        "        hold = 0\n",
        "        \n",
        "        for i in range(len(nums)):\n",
        "            if nums[i] != nums[hold]:\n",
        "                hold += 1\n",
        "                nums[i] , nums[hold] = nums[hold], nums[i]\n",
        "        \n",
        "        return hold + 1"
      ],
      "execution_count": 0,
      "outputs": []
    },
    {
      "metadata": {
        "id": "hstWdDN-2Nwg",
        "colab_type": "code",
        "colab": {}
      },
      "cell_type": "code",
      "source": [
        ""
      ],
      "execution_count": 0,
      "outputs": []
    }
  ]
}