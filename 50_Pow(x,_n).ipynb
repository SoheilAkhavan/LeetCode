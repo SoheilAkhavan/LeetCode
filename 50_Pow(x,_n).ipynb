{
  "nbformat": 4,
  "nbformat_minor": 0,
  "metadata": {
    "colab": {
      "name": "50. Pow(x, n)",
      "version": "0.3.2",
      "provenance": [],
      "include_colab_link": true
    },
    "kernelspec": {
      "name": "python3",
      "display_name": "Python 3"
    }
  },
  "cells": [
    {
      "cell_type": "markdown",
      "metadata": {
        "id": "view-in-github",
        "colab_type": "text"
      },
      "source": [
        "<a href=\"https://colab.research.google.com/github/SoheilAkhavan/LeetCode/blob/master/50_Pow(x%2C_n).ipynb\" target=\"_parent\"><img src=\"https://colab.research.google.com/assets/colab-badge.svg\" alt=\"Open In Colab\"/></a>"
      ]
    },
    {
      "metadata": {
        "id": "1mqt9eiQF51Y",
        "colab_type": "text"
      },
      "cell_type": "markdown",
      "source": [
        "**50**. Pow(x, n)\n",
        "\n",
        "###Medium\n",
        "Implement pow(x, n), which calculates x raised to the power n (xn).\n",
        "\n",
        "Example 1:\n",
        "\n",
        "Input: 2.00000, 10\n",
        "Output: 1024.00000\n",
        "\n",
        "Example 2:\n",
        "\n",
        "Input: 2.10000, 3\n",
        "Output: 9.26100\n",
        "\n",
        "Example 3:\n",
        "\n",
        "Input: 2.00000, -2\n",
        "Output: 0.25000\n",
        "Explanation: 2-2 = 1/22 = 1/4 = 0.25\n",
        "\n",
        "Note:\n",
        "\n",
        "-100.0 < x < 100.0\n",
        "n is a 32-bit signed integer, within the range [−231, 231 − 1]\n",
        "\n",
        "\n",
        "---\n",
        "\n",
        "\n",
        "NOTE: \n",
        "\n",
        "---"
      ]
    },
    {
      "metadata": {
        "id": "8QS-OeDyFjaJ",
        "colab_type": "code",
        "colab": {}
      },
      "cell_type": "code",
      "source": [
        "class Solution(object):\n",
        "    def myPow(self, x, n):\n",
        "        \"\"\"\n",
        "        :type x: float\n",
        "        :type n: int\n",
        "        :rtype: float\n",
        "        \"\"\"\n",
        "        if n <= 0 and x == 0:\n",
        "            return None\n",
        "        \n",
        "        if n == 0:\n",
        "            return 1\n",
        "        \n",
        "        if n == 1:\n",
        "            return x\n",
        "        \n",
        "        if n < 0:\n",
        "            return 1./self.myPow(x,-n)\n",
        "        \n",
        "        if n % 2 == 0:\n",
        "            return self.myPow(x*x,n/2)\n",
        "        else:\n",
        "            return self.myPow(x*x, (n-1)/2)*x"
      ],
      "execution_count": 0,
      "outputs": []
    },
    {
      "metadata": {
        "id": "41IPlA1hJtbr",
        "colab_type": "code",
        "colab": {}
      },
      "cell_type": "code",
      "source": [
        ""
      ],
      "execution_count": 0,
      "outputs": []
    }
  ]
}