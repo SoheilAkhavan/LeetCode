{
  "nbformat": 4,
  "nbformat_minor": 0,
  "metadata": {
    "colab": {
      "name": "102. Binary Tree Level Order Traversal",
      "version": "0.3.2",
      "provenance": [],
      "include_colab_link": true
    },
    "kernelspec": {
      "name": "python3",
      "display_name": "Python 3"
    }
  },
  "cells": [
    {
      "cell_type": "markdown",
      "metadata": {
        "id": "view-in-github",
        "colab_type": "text"
      },
      "source": [
        "<a href=\"https://colab.research.google.com/github/SoheilAkhavan/LeetCode/blob/master/102_Binary_Tree_Level_Order_Traversal.ipynb\" target=\"_parent\"><img src=\"https://colab.research.google.com/assets/colab-badge.svg\" alt=\"Open In Colab\"/></a>"
      ]
    },
    {
      "metadata": {
        "id": "GiQJ1RHOgm2j",
        "colab_type": "text"
      },
      "cell_type": "markdown",
      "source": [
        "**102**. Binary Tree Level Order Traversal\n",
        "####Medium\n",
        "\n",
        "Given a binary tree, return the level order traversal of its nodes' values. (ie, from left to right, level by level).\n",
        "\n",
        "For example:\n",
        "Given binary tree [3,9,20,null,null,15,7],\n",
        "    3\n",
        "   / \\\n",
        "  9  20\n",
        "    /  \\\n",
        "   15   7\n",
        "return its level order traversal as:\n",
        "[\n",
        "  [3],\n",
        "  [9,20],\n",
        "  [15,7]\n",
        "]\n",
        "\n",
        "\n",
        "---\n",
        "\n",
        "NOTE: \n",
        "\n",
        "need to use bfs since we are going lvl by lvl\n",
        "\n",
        "key: lvl, val: a list of node values in that level\n",
        "\n",
        "\n",
        "\n",
        "\n",
        "---\n",
        "\n",
        "\n"
      ]
    },
    {
      "metadata": {
        "id": "QwoApA6Agjpb",
        "colab_type": "code",
        "colab": {}
      },
      "cell_type": "code",
      "source": [
        "# Definition for a binary tree node.\n",
        "# class TreeNode(object):\n",
        "#     def __init__(self, x):\n",
        "#         self.val = x\n",
        "#         self.left = None\n",
        "#         self.right = None\n",
        "from collections import deque \n",
        "class Solution(object):\n",
        "    def levelOrder(self, root):\n",
        "        \"\"\"\n",
        "        :type root: TreeNode\n",
        "        :rtype: List[List[int]]\n",
        "        \"\"\"\n",
        "        if not root: return []\n",
        "        \n",
        "        rec = {} # key: lvl, val: a list of node values in that level\n",
        "        queue = deque([(0, root)])\n",
        "        \n",
        "        while queue:\n",
        "            h, curr = queue.popleft()\n",
        "            rec[h] = rec.get(h, []) + [curr.val]\n",
        "            \n",
        "            for kid in [curr.left, curr.right]: \n",
        "                if kid:\n",
        "                    queue.append((h+1, kid))\n",
        "        \n",
        "        return [rec[key] for key in sorted(rec.keys())]\n",
        "                    \n",
        "            "
      ],
      "execution_count": 0,
      "outputs": []
    }
  ]
}