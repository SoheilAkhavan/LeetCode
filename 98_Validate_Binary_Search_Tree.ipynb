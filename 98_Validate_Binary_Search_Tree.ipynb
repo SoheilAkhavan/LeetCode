{
  "nbformat": 4,
  "nbformat_minor": 0,
  "metadata": {
    "colab": {
      "name": "98. Validate Binary Search Tree",
      "version": "0.3.2",
      "provenance": [],
      "include_colab_link": true
    },
    "kernelspec": {
      "name": "python3",
      "display_name": "Python 3"
    }
  },
  "cells": [
    {
      "cell_type": "markdown",
      "metadata": {
        "id": "view-in-github",
        "colab_type": "text"
      },
      "source": [
        "<a href=\"https://colab.research.google.com/github/SoheilAkhavan/LeetCode/blob/master/98_Validate_Binary_Search_Tree.ipynb\" target=\"_parent\"><img src=\"https://colab.research.google.com/assets/colab-badge.svg\" alt=\"Open In Colab\"/></a>"
      ]
    },
    {
      "metadata": {
        "id": "tNUkv8wK-MSk",
        "colab_type": "text"
      },
      "cell_type": "markdown",
      "source": [
        "**98**. Validate Binary Search Tree\n",
        "####Medium\n",
        "\n",
        "Given a binary tree, determine if it is a valid binary search tree (BST).\n",
        "\n",
        "Assume a BST is defined as follows:\n",
        "\n",
        "The left subtree of a node contains only nodes with keys less than the node's key.\n",
        "The right subtree of a node contains only nodes with keys greater than the node's key.\n",
        "Both the left and right subtrees must also be binary search trees.\n",
        "Example 1:\n",
        "\n",
        "Input:\n",
        "    2\n",
        "   / \\\n",
        "  1   3\n",
        "Output: true\n",
        "Example 2:\n",
        "\n",
        "    5\n",
        "   / \\\n",
        "  1   4\n",
        "     / \\\n",
        "    3   6\n",
        "Output: false\n",
        "Explanation: The input is: [5,1,4,null,null,3,6]. The root node's value\n",
        "             is 5 but its right child's value is 4.\n",
        "\n",
        "\n",
        "---\n",
        "\n",
        "NOTE:\n",
        "\n",
        "\n",
        "\n",
        "---\n",
        "\n",
        "\n"
      ]
    },
    {
      "metadata": {
        "id": "VL3opMlv-LXE",
        "colab_type": "code",
        "colab": {}
      },
      "cell_type": "code",
      "source": [
        "# Definition for a binary tree node.\n",
        "# class TreeNode(object):\n",
        "#     def __init__(self, x):\n",
        "#         self.val = x\n",
        "#         self.left = None\n",
        "#         self.right = None\n",
        "\n",
        "class Solution(object):\n",
        "    def isValidBST(self, root):\n",
        "        \"\"\"\n",
        "        :type root: TreeNode\n",
        "        :rtype: bool\n",
        "        \"\"\"\n",
        "        return self.dfs(root, -sys.maxint, sys.maxint)\n",
        "        \n",
        "    def dfs(self, node, minv, maxv):\n",
        "        if not node:\n",
        "            return True\n",
        "            \n",
        "        if node.val >= maxv or node.val <= minv:\n",
        "            return False\n",
        "            \n",
        "        return self.dfs(node.left, minv, node.val) and self.dfs(node.right, node.val, maxv)\n",
        "        "
      ],
      "execution_count": 0,
      "outputs": []
    },
    {
      "metadata": {
        "id": "QSlqiYBa-g4D",
        "colab_type": "code",
        "colab": {}
      },
      "cell_type": "code",
      "source": [
        ""
      ],
      "execution_count": 0,
      "outputs": []
    }
  ]
}