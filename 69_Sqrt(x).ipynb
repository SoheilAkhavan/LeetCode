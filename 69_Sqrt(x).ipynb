{
  "nbformat": 4,
  "nbformat_minor": 0,
  "metadata": {
    "colab": {
      "name": "69. Sqrt(x)",
      "version": "0.3.2",
      "provenance": [],
      "include_colab_link": true
    },
    "kernelspec": {
      "name": "python3",
      "display_name": "Python 3"
    }
  },
  "cells": [
    {
      "cell_type": "markdown",
      "metadata": {
        "id": "view-in-github",
        "colab_type": "text"
      },
      "source": [
        "<a href=\"https://colab.research.google.com/github/SoheilAkhavan/LeetCode/blob/master/69_Sqrt(x).ipynb\" target=\"_parent\"><img src=\"https://colab.research.google.com/assets/colab-badge.svg\" alt=\"Open In Colab\"/></a>"
      ]
    },
    {
      "metadata": {
        "id": "BUJu25avyxHE",
        "colab_type": "text"
      },
      "cell_type": "markdown",
      "source": [
        "**69**. Sqrt(x)\n",
        "\n",
        "###Easy\n",
        "Given two binary strings, return their sum (also a binary string).\n",
        "\n",
        "The input strings are both non-empty and contains only characters 1 or 0.\n",
        "\n",
        "Example 1:\n",
        "\n",
        "Input: a = \"11\", b = \"1\"\n",
        "Output: \"100\"\n",
        "\n",
        "Example 2:\n",
        "\n",
        "Input: a = \"1010\", b = \"1011\"\n",
        "Output: \"10101\"\n",
        "\n",
        "---\n",
        "\n",
        "\n",
        "NOTE: \n",
        "\n",
        " the case of x<0 and x==0\n",
        " \n",
        "Looking for an integer less than or equal to sqrt(x)\n",
        "Left < right\n",
        "\n",
        "Update left=mid+1 or right=mid\n",
        "\n",
        " \n",
        "\n",
        "In the end there are only two points\n",
        "\n",
        "If the target is left, the result is left\n",
        "\n",
        "If the target is in right, left moves to right, the result is left\n",
        "\n",
        "If the target is between the two, left moves to right and the result is left - 1 (because the result is smaller than left)\n",
        "\n",
        "---\n",
        "\n"
      ]
    },
    {
      "metadata": {
        "id": "PJr2c5GSyq2r",
        "colab_type": "code",
        "colab": {}
      },
      "cell_type": "code",
      "source": [
        "class Solution(object):\n",
        "    def mySqrt(self, x):\n",
        "        \"\"\"\n",
        "        :type x: int\n",
        "        :rtype: int\n",
        "        \"\"\"\n",
        "        if x < 0:\n",
        "            return None\n",
        "        if x == 0:\n",
        "            return 0\n",
        "        if x == 1:\n",
        "            return 1\n",
        "        \n",
        "        left, right = 0, x\n",
        "        \n",
        "        while left < right:\n",
        "            mid = (left + right) / 2\n",
        "            m2 = mid * mid\n",
        "            \n",
        "            if m2 == x:\n",
        "                return mid\n",
        "            \n",
        "            elif m2 > x:\n",
        "                right = mid\n",
        "            else:\n",
        "                left = mid + 1\n",
        "                \n",
        "        if x == left ** 2:\n",
        "            return left\n",
        "        else:\n",
        "            return left - 1\n",
        "            \n",
        "        "
      ],
      "execution_count": 0,
      "outputs": []
    },
    {
      "metadata": {
        "id": "WRUX4zongUuZ",
        "colab_type": "code",
        "colab": {}
      },
      "cell_type": "code",
      "source": [
        ""
      ],
      "execution_count": 0,
      "outputs": []
    }
  ]
}