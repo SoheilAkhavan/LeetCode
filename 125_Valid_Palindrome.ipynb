{
  "nbformat": 4,
  "nbformat_minor": 0,
  "metadata": {
    "colab": {
      "name": "125. Valid Palindrome",
      "version": "0.3.2",
      "provenance": [],
      "include_colab_link": true
    },
    "kernelspec": {
      "name": "python3",
      "display_name": "Python 3"
    }
  },
  "cells": [
    {
      "cell_type": "markdown",
      "metadata": {
        "id": "view-in-github",
        "colab_type": "text"
      },
      "source": [
        "<a href=\"https://colab.research.google.com/github/SoheilAkhavan/LeetCode/blob/master/125_Valid_Palindrome.ipynb\" target=\"_parent\"><img src=\"https://colab.research.google.com/assets/colab-badge.svg\" alt=\"Open In Colab\"/></a>"
      ]
    },
    {
      "metadata": {
        "id": "nI4ko5uB86rB",
        "colab_type": "text"
      },
      "cell_type": "markdown",
      "source": [
        "**125**. Valid Palindrome\n",
        "####Easy\n",
        "\n",
        "Given a string, determine if it is a palindrome, considering only alphanumeric characters and ignoring cases.\n",
        "\n",
        "Note: For the purpose of this problem, we define empty string as valid palindrome.\n",
        "\n",
        "Example 1:\n",
        "\n",
        "Input: \"A man, a plan, a canal: Panama\"\n",
        "Output: true\n",
        "Example 2:\n",
        "\n",
        "Input: \"race a car\"\n",
        "Output: false\n",
        "\n",
        "\n",
        "\n",
        "---\n",
        "\n",
        "NOTE:\n",
        "\n",
        "\n",
        "---\n",
        "\n",
        "\n"
      ]
    },
    {
      "metadata": {
        "id": "-RlpJqhs9Tce",
        "colab_type": "code",
        "colab": {}
      },
      "cell_type": "code",
      "source": [
        "class Solution(object):\n",
        "    def isPalindrome(self, s):\n",
        "        \"\"\"\n",
        "        :type s: str\n",
        "        :rtype: bool\n",
        "        \"\"\"\n",
        "        left, right = 0, len(s) - 1\n",
        "        while left < right:\n",
        "            while not s[left].isalnum() and left < right:\n",
        "                left += 1\n",
        "            while not s[right].isalnum() and left < right:\n",
        "                right -= 1\n",
        "            \n",
        "            if s[right].lower() != s[left].lower():\n",
        "                return False\n",
        "            left += 1\n",
        "            right -= 1\n",
        "        \n",
        "        return True"
      ],
      "execution_count": 0,
      "outputs": []
    }
  ]
}