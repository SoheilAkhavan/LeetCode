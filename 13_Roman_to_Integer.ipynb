{
  "nbformat": 4,
  "nbformat_minor": 0,
  "metadata": {
    "colab": {
      "name": "13. Roman to Integer",
      "version": "0.3.2",
      "provenance": [],
      "toc_visible": true,
      "include_colab_link": true
    },
    "kernelspec": {
      "name": "python3",
      "display_name": "Python 3"
    }
  },
  "cells": [
    {
      "cell_type": "markdown",
      "metadata": {
        "id": "view-in-github",
        "colab_type": "text"
      },
      "source": [
        "<a href=\"https://colab.research.google.com/github/SoheilAkhavan/LeetCode/blob/master/13_Roman_to_Integer.ipynb\" target=\"_parent\"><img src=\"https://colab.research.google.com/assets/colab-badge.svg\" alt=\"Open In Colab\"/></a>"
      ]
    },
    {
      "metadata": {
        "id": "9B9jtT6O2qVS",
        "colab_type": "text"
      },
      "cell_type": "markdown",
      "source": [
        "13. Roman to Integer\n",
        "\n",
        "###Easy\n",
        "Roman numerals are represented by seven different symbols: I, V, X, L, C, D and M.\n",
        "\n",
        "Symbol       Value\n",
        "I             1\n",
        "V             5\n",
        "X             10\n",
        "L             50\n",
        "C             100\n",
        "D             500\n",
        "M             1000\n",
        "For example, two is written as II in Roman numeral, just two one's added together. Twelve is written as, XII, which is simply X + II. The number twenty seven is written as XXVII, which is XX + V + II.\n",
        "\n",
        "Roman numerals are usually written largest to smallest from left to right. However, the numeral for four is not IIII. Instead, the number four is written as IV. Because the one is before the five we subtract it making four. The same principle applies to the number nine, which is written as IX. There are six instances where subtraction is used:\n",
        "\n",
        "I can be placed before V (5) and X (10) to make 4 and 9. \n",
        "X can be placed before L (50) and C (100) to make 40 and 90. \n",
        "C can be placed before D (500) and M (1000) to make 400 and 900.\n",
        "Given a roman numeral, convert it to an integer. Input is guaranteed to be within the range from 1 to 3999.\n",
        "\n",
        "Example 1:\n",
        "\n",
        "Input: \"III\"\n",
        "Output: 3\n",
        "\n",
        "Example 2:\n",
        "\n",
        "Input: \"IV\"\n",
        "Output: 4\n",
        "\n",
        "Example 3:\n",
        "\n",
        "Input: \"IX\"\n",
        "Output: 9\n",
        "\n",
        "Example 4:\n",
        "\n",
        "Input: \"LVIII\"\n",
        "Output: 58\n",
        "Explanation: L = 50, V= 5, III = 3.\n",
        "\n",
        "Example 5:\n",
        "\n",
        "Input: \"MCMXCIV\"\n",
        "Output: 1994\n",
        "Explanation: M = 1000, CM = 900, XC = 90 and IV = 4.\n",
        "\n",
        "---\n",
        "\n",
        "\n",
        "NOTE: \n",
        "\n",
        "---\n",
        "\n",
        "\n"
      ]
    },
    {
      "metadata": {
        "id": "7RYsww1Q2zKR",
        "colab_type": "code",
        "colab": {}
      },
      "cell_type": "code",
      "source": [
        "class Solution(object):\n",
        "    def romanToInt(self, s):\n",
        "        \"\"\"\n",
        "        :type s: str\n",
        "        :rtype: int\n",
        "        \"\"\"\n",
        "        \n",
        "        rec = {'I' : 1,'V': 5,'X': 10,'L' : 50,'C' : 100,'D' : 500,'M' : 1000}\n",
        "        \n",
        "        if not s:\n",
        "            return 0\n",
        "        \n",
        "        \n",
        "        if len(s) == 1:\n",
        "            return rec[s[0]]\n",
        "            \n",
        "        ret = 0\n",
        "        for i in range(1,len(s)):\n",
        "            sign = [1, -1][rec[s[i-1]] < rec[s[i]]]\n",
        "            ret += sign * rec[s[i-1]]\n",
        "            \n",
        "        return ret + rec[s[-1]]\n",
        "        \n",
        "            "
      ],
      "execution_count": 0,
      "outputs": []
    },
    {
      "metadata": {
        "id": "OFZIwS3M3ToP",
        "colab_type": "code",
        "colab": {}
      },
      "cell_type": "code",
      "source": [
        ""
      ],
      "execution_count": 0,
      "outputs": []
    }
  ]
}