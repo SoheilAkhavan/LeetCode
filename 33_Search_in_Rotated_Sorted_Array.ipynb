{
  "nbformat": 4,
  "nbformat_minor": 0,
  "metadata": {
    "colab": {
      "name": "33. Search in Rotated Sorted Array",
      "version": "0.3.2",
      "provenance": [],
      "include_colab_link": true
    },
    "kernelspec": {
      "name": "python3",
      "display_name": "Python 3"
    }
  },
  "cells": [
    {
      "cell_type": "markdown",
      "metadata": {
        "id": "view-in-github",
        "colab_type": "text"
      },
      "source": [
        "<a href=\"https://colab.research.google.com/github/SoheilAkhavan/LeetCode/blob/master/33_Search_in_Rotated_Sorted_Array.ipynb\" target=\"_parent\"><img src=\"https://colab.research.google.com/assets/colab-badge.svg\" alt=\"Open In Colab\"/></a>"
      ]
    },
    {
      "metadata": {
        "id": "ecVAwfOrEcGg",
        "colab_type": "text"
      },
      "cell_type": "markdown",
      "source": [
        "\n",
        "**33**. Search in Rotated Sorted Array\n",
        "\n",
        "###Medium\n",
        "Suppose an array sorted in ascending order is rotated at some pivot unknown to you beforehand.\n",
        "\n",
        "(i.e., [0,1,2,4,5,6,7] might become [4,5,6,7,0,1,2]).\n",
        "\n",
        "You are given a target value to search. If found in the array return its index, otherwise return -1.\n",
        "\n",
        "You may assume no duplicate exists in the array.\n",
        "\n",
        "Your algorithm's runtime complexity must be in the order of O(log n).\n",
        "\n",
        "Example 1:\n",
        "\n",
        "Input: nums = [4,5,6,7,0,1,2], target = 0\n",
        "Output: 4\n",
        "Example 2:\n",
        "\n",
        "Input: nums = [4,5,6,7,0,1,2], target = 3\n",
        "Output: -1\n",
        "\n",
        "---\n",
        "\n",
        "\n",
        "NOTE: \n",
        "!(https://drive.google.com/open?id=1jKoDKM785Tsszy_ecB6tZ35iYXNhqmfs)\n",
        "\n",
        "---"
      ]
    },
    {
      "metadata": {
        "id": "JvtqbvuVEYdO",
        "colab_type": "code",
        "colab": {}
      },
      "cell_type": "code",
      "source": [
        "class Solution(object):\n",
        "    def search(self, nums, target):\n",
        "        \"\"\"\n",
        "        :type nums: List[int]\n",
        "        :type target: int\n",
        "        :rtype: int\n",
        "        \"\"\"\n",
        "        \n",
        "        \n",
        "        if not nums:\n",
        "            return -1\n",
        "        \n",
        "        left = 0\n",
        "        right = len(nums) - 1\n",
        "        \n",
        "        \n",
        "        while left <  right:\n",
        "            mid = (left + right) / 2\n",
        "            if nums[mid] == target:\n",
        "                return mid\n",
        "            \n",
        "            elif nums[mid] < nums[left]:\n",
        "                if nums[mid] < target <= nums[right]:\n",
        "                    left = mid +1\n",
        "                else:\n",
        "                    right = mid\n",
        "                    \n",
        "            else:\n",
        "                if nums[left] <= target < nums[mid]: \n",
        "                    right = mid\n",
        "                else:\n",
        "                    left = mid + 1\n",
        "        return [-1 ,left][nums[left] == target]\n",
        "                "
      ],
      "execution_count": 0,
      "outputs": []
    },
    {
      "metadata": {
        "id": "inVpYwtxMAnj",
        "colab_type": "code",
        "colab": {}
      },
      "cell_type": "code",
      "source": [
        ""
      ],
      "execution_count": 0,
      "outputs": []
    }
  ]
}