{
  "nbformat": 4,
  "nbformat_minor": 0,
  "metadata": {
    "colab": {
      "name": "127. Word Ladder",
      "version": "0.3.2",
      "provenance": [],
      "include_colab_link": true
    },
    "kernelspec": {
      "name": "python3",
      "display_name": "Python 3"
    }
  },
  "cells": [
    {
      "cell_type": "markdown",
      "metadata": {
        "id": "view-in-github",
        "colab_type": "text"
      },
      "source": [
        "<a href=\"https://colab.research.google.com/github/SoheilAkhavan/LeetCode/blob/master/127_Word_Ladder.ipynb\" target=\"_parent\"><img src=\"https://colab.research.google.com/assets/colab-badge.svg\" alt=\"Open In Colab\"/></a>"
      ]
    },
    {
      "metadata": {
        "id": "VrSdEB8-5gs4",
        "colab_type": "text"
      },
      "cell_type": "markdown",
      "source": [
        "**127**. Word Ladder\n",
        "####Medium\n",
        "Given two words (beginWord and endWord), and a dictionary's word list, find the length of shortest transformation sequence from beginWord to endWord, such that:\n",
        "\n",
        "Only one letter can be changed at a time.\n",
        "Each transformed word must exist in the word list. Note that beginWord is not a transformed word.\n",
        "Note:\n",
        "\n",
        "\n",
        "Return 0 if there is no such transformation sequence.\n",
        "All words have the same length.\n",
        "All words contain only lowercase alphabetic characters.\n",
        "You may assume no duplicates in the word list.\n",
        "You may assume beginWord and endWord are non-empty and are not the same.\n",
        "\n",
        "Example 1:\n",
        "\n",
        "Input:\n",
        "beginWord = \"hit\",\n",
        "endWord = \"cog\",\n",
        "wordList = [\"hot\",\"dot\",\"dog\",\"lot\",\"log\",\"cog\"]\n",
        "\n",
        "Output: 5\n",
        "\n",
        "Explanation: As one shortest transformation is \"hit\" -> \"hot\" -> \"dot\" -> \"dog\" -> \"cog\",\n",
        "return its length 5.\n",
        "\n",
        "Example 2:\n",
        "\n",
        "Input:\n",
        "beginWord = \"hit\"\n",
        "endWord = \"cog\"\n",
        "wordList = [\"hot\",\"dot\",\"dog\",\"lot\",\"log\"]\n",
        "\n",
        "Output: 0\n",
        "\n",
        "Explanation: The endWord \"cog\" is not in wordList, therefore no possible transformation.\n",
        "\n",
        "\n",
        "\n",
        "---\n",
        "\n",
        "NOTE:\n",
        "\n",
        "\n",
        "---\n",
        "\n"
      ]
    },
    {
      "metadata": {
        "id": "DZXz3xF87RGT",
        "colab_type": "code",
        "colab": {}
      },
      "cell_type": "code",
      "source": [
        "import collections \n",
        "class Solution(object):\n",
        "    def ladderLength(self, beginWord, endWord, wordList):\n",
        "        \"\"\"\n",
        "        :type beginWord: str\n",
        "        :type endWord: str\n",
        "        :type wordList: List[str]\n",
        "        :rtype: int\n",
        "        \"\"\"\n",
        "        if beginWord == endWord:\n",
        "            return 1\n",
        "        if not endWord in wordList:\n",
        "            return 0\n",
        "        \n",
        "        wordList = set(wordList)\n",
        "        queue = collections.deque([(1, beginWord)])\n",
        "        \n",
        "        while queue:\n",
        "            n, curr = queue.popleft()\n",
        "            if curr == endWord:\n",
        "                return n\n",
        "            \n",
        "            for i in range(len(curr)):\n",
        "                for c in range(ord('a'), ord('z')+1):\n",
        "                    newWord = curr[:i] + chr(c) + curr[i+1:]\n",
        "                    if newWord in wordList:\n",
        "                        queue.append((n+1, newWord ))\n",
        "                        wordList.remove(newWord)\n",
        "        \n",
        "        \n",
        "        return 0"
      ],
      "execution_count": 0,
      "outputs": []
    },
    {
      "metadata": {
        "id": "iW00VykbBqBN",
        "colab_type": "code",
        "colab": {}
      },
      "cell_type": "code",
      "source": [
        ""
      ],
      "execution_count": 0,
      "outputs": []
    }
  ]
}