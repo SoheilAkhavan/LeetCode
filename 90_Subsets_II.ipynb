{
  "nbformat": 4,
  "nbformat_minor": 0,
  "metadata": {
    "colab": {
      "name": "90. Subsets II",
      "version": "0.3.2",
      "provenance": [],
      "include_colab_link": true
    },
    "kernelspec": {
      "name": "python3",
      "display_name": "Python 3"
    }
  },
  "cells": [
    {
      "cell_type": "markdown",
      "metadata": {
        "id": "view-in-github",
        "colab_type": "text"
      },
      "source": [
        "<a href=\"https://colab.research.google.com/github/SoheilAkhavan/LeetCode/blob/master/90_Subsets_II.ipynb\" target=\"_parent\"><img src=\"https://colab.research.google.com/assets/colab-badge.svg\" alt=\"Open In Colab\"/></a>"
      ]
    },
    {
      "metadata": {
        "id": "f0SX7UXxup8s",
        "colab_type": "text"
      },
      "cell_type": "markdown",
      "source": [
        "**90**. Subsets II\n",
        "####Medium\n",
        "\n",
        "Given a collection of integers that might contain duplicates, nums, return all possible subsets (the power set).\n",
        "\n",
        "Note: The solution set must not contain duplicate subsets.\n",
        "\n",
        "Example:\n",
        "\n",
        "Input: [1,2,2]\n",
        "Output:\n",
        "[\n",
        "  [2],\n",
        "  [1],\n",
        "  [1,2,2],\n",
        "  [2,2],\n",
        "  [1,2],\n",
        "  []\n",
        "]\n",
        "\n",
        "\n",
        "---\n",
        "\n",
        "\n",
        "NOTE: \n",
        "\n",
        "same as subset I except \n",
        "\n",
        "if i > start and nums[i] == nums[i - 1]: \n",
        "\n",
        "    continue \n",
        "\n",
        " \n",
        "\n",
        "---\n",
        "\n",
        "\n"
      ]
    },
    {
      "metadata": {
        "id": "L2vIzCJNuoXC",
        "colab_type": "code",
        "colab": {}
      },
      "cell_type": "code",
      "source": [
        "class Solution(object):\n",
        "    def subsetsWithDup(self, nums):\n",
        "        \"\"\"\n",
        "        :type nums: List[int]\n",
        "        :rtype: List[List[int]]\n",
        "        \"\"\"\n",
        "        nums = sorted(nums)\n",
        "        rec = []\n",
        "        self.dfs(nums, 0, [], rec)\n",
        "        return rec\n",
        "    \n",
        "    def dfs(self, nums, start, path, rec):\n",
        "        rec.append(path[:])\n",
        "        \n",
        "        for i in range(start, len(nums)):\n",
        "            if i > start and nums[i] == nums[i-1]:\n",
        "                continue\n",
        "            \n",
        "            path.append(nums[i])\n",
        "            self.dfs(nums, i+1, path, rec)\n",
        "            path.pop()"
      ],
      "execution_count": 0,
      "outputs": []
    },
    {
      "metadata": {
        "id": "_1PuhqqH4Q2V",
        "colab_type": "code",
        "colab": {}
      },
      "cell_type": "code",
      "source": [
        ""
      ],
      "execution_count": 0,
      "outputs": []
    }
  ]
}