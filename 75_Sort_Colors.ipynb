{
  "nbformat": 4,
  "nbformat_minor": 0,
  "metadata": {
    "colab": {
      "name": "75. Sort Colors",
      "version": "0.3.2",
      "provenance": [],
      "include_colab_link": true
    },
    "kernelspec": {
      "name": "python3",
      "display_name": "Python 3"
    }
  },
  "cells": [
    {
      "cell_type": "markdown",
      "metadata": {
        "id": "view-in-github",
        "colab_type": "text"
      },
      "source": [
        "<a href=\"https://colab.research.google.com/github/SoheilAkhavan/LeetCode/blob/master/75_Sort_Colors.ipynb\" target=\"_parent\"><img src=\"https://colab.research.google.com/assets/colab-badge.svg\" alt=\"Open In Colab\"/></a>"
      ]
    },
    {
      "metadata": {
        "id": "CFkKtgV4nDtM",
        "colab_type": "text"
      },
      "cell_type": "markdown",
      "source": [
        "**75**. Sort Colors\n",
        "###Medium\n",
        "Given an array with n objects colored red, white or blue, sort them in-place so that objects of the same color are adjacent, with the colors in the order red, white and blue.\n",
        "\n",
        "Here, we will use the integers 0, 1, and 2 to represent the color red, white, and blue respectively.\n",
        "\n",
        "Note: You are not suppose to use the library's sort function for this problem.\n",
        "\n",
        "Example:\n",
        "\n",
        "Input: [2,0,2,1,1,0]\n",
        "Output: [0,0,1,1,2,2]\n",
        "Follow up:\n",
        "\n",
        "A rather straight forward solution is a two-pass algorithm using counting sort.\n",
        "First, iterate the array counting number of 0's, 1's, and 2's, then overwrite array with total number of 0's, then 1's and followed by 2's.\n",
        "Could you come up with a one-pass algorithm using only constant space?\n",
        "\n",
        "---\n",
        "\n",
        "\n",
        "NOTE: \n",
        "\n",
        "f p points to 0, p and left point the number exchange, the number exchanged to p must be 1, and both left and p move one bit to the right.\n",
        "\n",
        "If p points to 2, the number pointed to by p and right is exchanged, the number exchanged to p is not necessarily 1, so only right moves one bit to the left.\n",
        "\n",
        "If p points to 1, p moves one bit to the right\n",
        "\n",
        "---\n",
        "\n",
        "\n"
      ]
    },
    {
      "metadata": {
        "id": "_a8dSYT_nCEA",
        "colab_type": "code",
        "colab": {}
      },
      "cell_type": "code",
      "source": [
        "class Solution(object):\n",
        "    def sortColors(self, nums):\n",
        "        \"\"\"\n",
        "        :type nums: List[int]\n",
        "        :rtype: void Do not return anything, modify nums in-place instead.\n",
        "        \"\"\"\n",
        "        \n",
        "        left, right = 0, len(nums) - 1\n",
        "        p = 0\n",
        "        \n",
        "        while left <= p <= right:\n",
        "            if nums[p] == 0:\n",
        "                nums[left], nums[p] = nums[p], nums[left]\n",
        "                \n",
        "                left += 1\n",
        "                p += 1\n",
        "            elif nums[p] == 2:\n",
        "                nums[right] , nums[p] = nums[p], nums[right]\n",
        "                \n",
        "                right -= 1\n",
        "            \n",
        "            else:\n",
        "                p += 1\n",
        "        "
      ],
      "execution_count": 0,
      "outputs": []
    },
    {
      "metadata": {
        "id": "-eiqud8lqc2k",
        "colab_type": "code",
        "colab": {}
      },
      "cell_type": "code",
      "source": [
        ""
      ],
      "execution_count": 0,
      "outputs": []
    }
  ]
}