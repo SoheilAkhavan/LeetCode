{
  "nbformat": 4,
  "nbformat_minor": 0,
  "metadata": {
    "colab": {
      "name": "43. Multiply Strings",
      "version": "0.3.2",
      "provenance": [],
      "include_colab_link": true
    },
    "kernelspec": {
      "name": "python3",
      "display_name": "Python 3"
    }
  },
  "cells": [
    {
      "cell_type": "markdown",
      "metadata": {
        "id": "view-in-github",
        "colab_type": "text"
      },
      "source": [
        "<a href=\"https://colab.research.google.com/github/SoheilAkhavan/LeetCode/blob/master/43_Multiply_Strings.ipynb\" target=\"_parent\"><img src=\"https://colab.research.google.com/assets/colab-badge.svg\" alt=\"Open In Colab\"/></a>"
      ]
    },
    {
      "metadata": {
        "id": "MW1WMA7sWOqs",
        "colab_type": "text"
      },
      "cell_type": "markdown",
      "source": [
        "**43**. Multiply Strings\n",
        "\n",
        "###Easy\n",
        "The count-and-say sequence is the sequence of integers with the first five terms as following:\n",
        "\n",
        "1.     1\n",
        "2.     11\n",
        "3.     21\n",
        "4.     1211\n",
        "5.     111221\n",
        "1 is read off as \"one 1\" or 11.\n",
        "11 is read off as \"two 1s\" or 21.\n",
        "21 is read off as \"one 2, then one 1\" or 1211.\n",
        "\n",
        "Given an integer n where 1 ≤ n ≤ 30, generate the nth term of the count-and-say sequence.\n",
        "\n",
        "Note: Each term of the sequence of integers will be represented as a string.\n",
        "\n",
        "\n",
        "\n",
        "---\n",
        "\n",
        "\n",
        "NOTE: \n",
        "\n",
        "For convenience, reverse num1 and num2 first.\n",
        "The m digit multiplied by n digits is the longest (m+n) digits.\n",
        "\n",
        "Ans[i + j] += num1[i] * num2[j]\n",
        "\n",
        "Then process the carry\n",
        "\n",
        "Finally handle the extra 0\n",
        "\n",
        "####Flip the result and then join\n",
        "---"
      ]
    },
    {
      "metadata": {
        "id": "wjjHpbk0WNt7",
        "colab_type": "code",
        "colab": {}
      },
      "cell_type": "code",
      "source": [
        "class Solution(object):\n",
        "    def multiply(self, num1, num2):\n",
        "        \"\"\"\n",
        "        :type num1: str\n",
        "        :type num2: str\n",
        "        :rtype: str\n",
        "        \"\"\"\n",
        "        num1 = map(int,num1[::-1])\n",
        "        num2 = map(int,num2[::-1])\n",
        "        \n",
        "        rec = [0] * (len(num1) + len(num2))\n",
        "        \n",
        "        for i in range(len(num1)):\n",
        "            for j in range(len(num2)):\n",
        "                rec[i + j] += num1[i] * num2[j]\n",
        "                \n",
        "        carry = 0\n",
        "        \n",
        "        for i in range(len(rec)):\n",
        "            rec[i] += carry \n",
        "            carry = rec[i] / 10\n",
        "            rec[i] = rec[i] % 10\n",
        "        \n",
        "        k = len(rec) - 1\n",
        "        while rec[k] == 0 and k > 0:\n",
        "            k -= 1\n",
        "        return \"\".join(map(str,rec[:k+1][::-1]))\n",
        "            \n",
        "            \n",
        "        \n",
        "        "
      ],
      "execution_count": 0,
      "outputs": []
    },
    {
      "metadata": {
        "id": "frlXsQ-PWLjo",
        "colab_type": "code",
        "colab": {}
      },
      "cell_type": "code",
      "source": [
        ""
      ],
      "execution_count": 0,
      "outputs": []
    }
  ]
}