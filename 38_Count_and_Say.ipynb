{
  "nbformat": 4,
  "nbformat_minor": 0,
  "metadata": {
    "colab": {
      "name": "38. Count and Say",
      "version": "0.3.2",
      "provenance": [],
      "include_colab_link": true
    },
    "kernelspec": {
      "name": "python3",
      "display_name": "Python 3"
    }
  },
  "cells": [
    {
      "cell_type": "markdown",
      "metadata": {
        "id": "view-in-github",
        "colab_type": "text"
      },
      "source": [
        "<a href=\"https://colab.research.google.com/github/SoheilAkhavan/LeetCode/blob/master/38_Count_and_Say.ipynb\" target=\"_parent\"><img src=\"https://colab.research.google.com/assets/colab-badge.svg\" alt=\"Open In Colab\"/></a>"
      ]
    },
    {
      "metadata": {
        "id": "S1zaCb7aOoke",
        "colab_type": "text"
      },
      "cell_type": "markdown",
      "source": [
        "**38**. Count and Say\n",
        "\n",
        "###Easy\n",
        "The count-and-say sequence is the sequence of integers with the first five terms as following:\n",
        "\n",
        "1.     1\n",
        "2.     11\n",
        "3.     21\n",
        "4.     1211\n",
        "5.     111221\n",
        "1 is read off as \"one 1\" or 11.\n",
        "11 is read off as \"two 1s\" or 21.\n",
        "21 is read off as \"one 2, then one 1\" or 1211.\n",
        "\n",
        "Given an integer n where 1 ≤ n ≤ 30, generate the nth term of the count-and-say sequence.\n",
        "\n",
        "Note: Each term of the sequence of integers will be represented as a string.\n",
        "\n",
        "\n",
        "\n",
        "---\n",
        "\n",
        "\n",
        "NOTE: \n",
        "\n",
        "---"
      ]
    },
    {
      "metadata": {
        "id": "itpdIhyjOfTS",
        "colab_type": "code",
        "colab": {}
      },
      "cell_type": "code",
      "source": [
        "class Solution(object): \n",
        "    def countAndSay(self, n): \n",
        "        \"\"\" \n",
        "        :type n: int \n",
        "        :rtype: str \n",
        "        \"\"\" \n",
        "        if n == 1: \n",
        "            return \"1\" \n",
        "        s = self.countAndSay(n - 1) \n",
        "        ret = [] \n",
        "        slow = 0 \n",
        "        for fast in range(len(s)): \n",
        "            if s[fast] != s[slow]: \n",
        "                ret.extend([str(fast - slow), str(s[slow])]) \n",
        "                slow = fast \n",
        "        ret.extend([str(fast + 1 - slow), str(s[slow])]) \n",
        "        return \"\".join(ret)"
      ],
      "execution_count": 0,
      "outputs": []
    },
    {
      "metadata": {
        "id": "bHbBIWUPRdra",
        "colab_type": "code",
        "colab": {}
      },
      "cell_type": "code",
      "source": [
        ""
      ],
      "execution_count": 0,
      "outputs": []
    }
  ]
}