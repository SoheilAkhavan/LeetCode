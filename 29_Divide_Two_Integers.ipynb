{
  "nbformat": 4,
  "nbformat_minor": 0,
  "metadata": {
    "colab": {
      "name": "29. Divide Two Integers",
      "version": "0.3.2",
      "provenance": [],
      "include_colab_link": true
    },
    "kernelspec": {
      "name": "python3",
      "display_name": "Python 3"
    }
  },
  "cells": [
    {
      "cell_type": "markdown",
      "metadata": {
        "id": "view-in-github",
        "colab_type": "text"
      },
      "source": [
        "<a href=\"https://colab.research.google.com/github/SoheilAkhavan/LeetCode/blob/master/29_Divide_Two_Integers.ipynb\" target=\"_parent\"><img src=\"https://colab.research.google.com/assets/colab-badge.svg\" alt=\"Open In Colab\"/></a>"
      ]
    },
    {
      "metadata": {
        "id": "UIsiEMv3A9c3",
        "colab_type": "text"
      },
      "cell_type": "markdown",
      "source": [
        " \n",
        " **29**. Divide Two Integers\n",
        "\n",
        "###Medium\n",
        "Given two integers dividend and divisor, divide two integers without using multiplication, division and mod operator.\n",
        "\n",
        "Return the quotient after dividing dividend by divisor.\n",
        "\n",
        "The integer division should truncate toward zero.\n",
        "\n",
        "Example 1:\n",
        "\n",
        "Input: dividend = 10, divisor = 3\n",
        "Output: 3\n",
        "Example 2:\n",
        "\n",
        "Input: dividend = 7, divisor = -3\n",
        "Output: -2\n",
        "Note:\n",
        "\n",
        "Both dividend and divisor will be 32-bit signed integers.\n",
        "The divisor will never be 0.\n",
        "####Assume we are dealing with an environment which could only store integers within the 32-bit signed integer range: [−231,  231 − 1]. For the purpose of this problem, assume that your function returns 231 − 1 when the division result overflows.\n",
        "---\n",
        "\n",
        "\n",
        "NOTE:  Using bit operations instead of division\n",
        "\n",
        "---"
      ]
    },
    {
      "metadata": {
        "id": "UlCuyd1bA70t",
        "colab_type": "code",
        "colab": {}
      },
      "cell_type": "code",
      "source": [
        "class Solution(object):\n",
        "    def divide(self, dividend, divisor):\n",
        "        \"\"\"\n",
        "        :type dividend: int\n",
        "        :type divisor: int\n",
        "        :rtype: int\n",
        "        \"\"\"\n",
        "        if divisor == 0:\n",
        "            return False\n",
        "        if dividend == 0:\n",
        "            return 0\n",
        "        \n",
        "        if dividend > 0:\n",
        "            sign = [1, -1][divisor < 0]\n",
        "        \n",
        "        if dividend < 0:\n",
        "            sign = [1, -1][divisor > 0]\n",
        "            \n",
        "        \n",
        "        dividend = abs(dividend) \n",
        "        divisor = abs(divisor)\n",
        "        \n",
        "        count = 0\n",
        "        while dividend >= divisor:\n",
        "            m = 0\n",
        "            while dividend >= (divisor << m):\n",
        "                dividend -= (divisor << m)\n",
        "                count += (1 << m)\n",
        "                m += 1\n",
        "        if sign > 0:\n",
        "            return min(count, 2147483647)\n",
        "        if sign < 0:\n",
        "            return max(-count, -2147483648)"
      ],
      "execution_count": 0,
      "outputs": []
    },
    {
      "metadata": {
        "id": "cR7mEdA8DZ8n",
        "colab_type": "code",
        "colab": {}
      },
      "cell_type": "code",
      "source": [
        ""
      ],
      "execution_count": 0,
      "outputs": []
    }
  ]
}