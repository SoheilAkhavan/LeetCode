{
  "nbformat": 4,
  "nbformat_minor": 0,
  "metadata": {
    "colab": {
      "name": "56. Merge Intervals",
      "version": "0.3.2",
      "provenance": [],
      "include_colab_link": true
    },
    "kernelspec": {
      "name": "python3",
      "display_name": "Python 3"
    }
  },
  "cells": [
    {
      "cell_type": "markdown",
      "metadata": {
        "id": "view-in-github",
        "colab_type": "text"
      },
      "source": [
        "<a href=\"https://colab.research.google.com/github/SoheilAkhavan/LeetCode/blob/master/56_Merge_Intervals.ipynb\" target=\"_parent\"><img src=\"https://colab.research.google.com/assets/colab-badge.svg\" alt=\"Open In Colab\"/></a>"
      ]
    },
    {
      "metadata": {
        "id": "9XQCyy4hXdsC",
        "colab_type": "text"
      },
      "cell_type": "markdown",
      "source": [
        "**56**. Merge Intervals\n",
        "\n",
        "###Medium\n",
        "Given a collection of intervals, merge all overlapping intervals.\n",
        "\n",
        "Example 1:\n",
        "\n",
        "Input: [[1,3],[2,6],[8,10],[15,18]]\n",
        "Output: [[1,6],[8,10],[15,18]]\n",
        "Explanation: Since intervals [1,3] and [2,6] overlaps, merge them into [1,6].\n",
        "\n",
        "Example 2:\n",
        "\n",
        "Input: [[1,4],[4,5]]\n",
        "Output: [[1,5]]\n",
        "####Explanation: Intervals [1,4] and [4,5] are considered overlapping.\n",
        "---\n",
        "\n",
        "\n",
        "NOTE: \n",
        "Sort by start position\n",
        "\n",
        "Define hold = intervals[0]\n",
        "\n",
        "Looping from intervals[1:]\n",
        "\n",
        "There is overlap (m.start <= hold.end) on the merge, and the tail is hold.end = max(m.end, hold.end)\n",
        "\n",
        "Record the result without overlapping, take the current interval as the new hold\n",
        "\n",
        "Finally, put the hold into the result.\n",
        "\n",
        "---"
      ]
    },
    {
      "metadata": {
        "id": "IIiNFiPEXa3v",
        "colab_type": "code",
        "colab": {}
      },
      "cell_type": "code",
      "source": [
        "# Definition for an interval.\n",
        "# class Interval(object):\n",
        "#     def __init__(self, s=0, e=0):\n",
        "#         self.start = s\n",
        "#         self.end = e\n",
        "\n",
        "class Solution(object):\n",
        "    def merge(self, intervals):\n",
        "        \"\"\"\n",
        "        :type intervals: List[Interval]\n",
        "        :rtype: List[Interval]\n",
        "        \"\"\"\n",
        "        ret = []\n",
        "        if not intervals:\n",
        "            return []\n",
        "        \n",
        "        intervals.sort(key = lambda x: x.start)\n",
        "        hold = intervals[0]\n",
        "        \n",
        "        for interval in intervals[1:]:\n",
        "            if hold.end >= interval.start:\n",
        "                hold.end = max(hold.end, interval.end)\n",
        "            \n",
        "            else:\n",
        "                ret.append(hold)\n",
        "                hold = interval\n",
        "        \n",
        "        ret.append(hold)\n",
        "        \n",
        "        return ret\n",
        "                "
      ],
      "execution_count": 0,
      "outputs": []
    },
    {
      "metadata": {
        "id": "29GShI6Tdxv9",
        "colab_type": "code",
        "colab": {}
      },
      "cell_type": "code",
      "source": [
        ""
      ],
      "execution_count": 0,
      "outputs": []
    }
  ]
}