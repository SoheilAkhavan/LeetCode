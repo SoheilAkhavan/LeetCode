{
  "nbformat": 4,
  "nbformat_minor": 0,
  "metadata": {
    "colab": {
      "name": "122. Best Time to Buy and Sell Stock II",
      "version": "0.3.2",
      "provenance": [],
      "include_colab_link": true
    },
    "kernelspec": {
      "name": "python3",
      "display_name": "Python 3"
    }
  },
  "cells": [
    {
      "cell_type": "markdown",
      "metadata": {
        "id": "view-in-github",
        "colab_type": "text"
      },
      "source": [
        "<a href=\"https://colab.research.google.com/github/SoheilAkhavan/LeetCode/blob/master/122_Best_Time_to_Buy_and_Sell_Stock_II.ipynb\" target=\"_parent\"><img src=\"https://colab.research.google.com/assets/colab-badge.svg\" alt=\"Open In Colab\"/></a>"
      ]
    },
    {
      "metadata": {
        "id": "QwqDMZwEylcp",
        "colab_type": "text"
      },
      "cell_type": "markdown",
      "source": [
        "**122**. Best Time to Buy and Sell Stock II\n",
        "####Easy\n",
        "\n",
        "Say you have an array for which the ith element is the price of a given stock on day i.\n",
        "\n",
        "Design an algorithm to find the maximum profit. You may complete as many transactions as you like (i.e., buy one and sell one share of the stock multiple times).\n",
        "\n",
        "Note: You may not engage in multiple transactions at the same time (i.e., you must sell the stock before you buy again).\n",
        "\n",
        "Example 1:\n",
        "\n",
        "Input: [7,1,5,3,6,4]\n",
        "Output: 7\n",
        "Explanation: Buy on day 2 (price = 1) and sell on day 3 (price = 5), profit = 5-1 = 4.\n",
        "             Then buy on day 4 (price = 3) and sell on day 5 (price = 6), profit = 6-3 = 3.\n",
        "             \n",
        "Example 2:\n",
        "\n",
        "Input: [1,2,3,4,5]\n",
        "Output: 4\n",
        "Explanation: Buy on day 1 (price = 1) and sell on day 5 (price = 5), profit = 5-1 = 4.\n",
        "             Note that you cannot buy on day 1, buy on day 2 and sell them later, as you are\n",
        "             engaging multiple transactions at the same time. You must sell before buying again.\n",
        "             \n",
        "Example 3:\n",
        "\n",
        "Input: [7,6,4,3,1]\n",
        "Output: 0\n",
        "Explanation: In this case, no transaction is done, i.e. max profit = 0.\n",
        "\n",
        "\n",
        "\n",
        "---\n",
        "\n",
        "NOTE:\n",
        "\n",
        "\n",
        "---\n",
        "\n"
      ]
    },
    {
      "metadata": {
        "id": "q0humKpqykek",
        "colab_type": "code",
        "colab": {}
      },
      "cell_type": "code",
      "source": [
        "class Solution(object):\n",
        "    def maxProfit(self, prices):\n",
        "        \"\"\"\n",
        "        :type prices: List[int]\n",
        "        :rtype: int\n",
        "        \"\"\"\n",
        "        if len(prices) < 2:\n",
        "            return 0\n",
        "    \n",
        "    \n",
        "        profit = 0\n",
        "        \n",
        "        for i in range(1, len(prices)):\n",
        "            profit += max(0, prices[i] - prices[i-1] )\n",
        "            \n",
        "        return profit"
      ],
      "execution_count": 0,
      "outputs": []
    },
    {
      "metadata": {
        "id": "8xOajVjf58cm",
        "colab_type": "code",
        "colab": {}
      },
      "cell_type": "code",
      "source": [
        ""
      ],
      "execution_count": 0,
      "outputs": []
    }
  ]
}