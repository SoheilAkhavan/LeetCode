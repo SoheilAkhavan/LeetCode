{
  "nbformat": 4,
  "nbformat_minor": 0,
  "metadata": {
    "colab": {
      "name": "53. Maximum Subarray",
      "version": "0.3.2",
      "provenance": [],
      "include_colab_link": true
    },
    "kernelspec": {
      "name": "python3",
      "display_name": "Python 3"
    }
  },
  "cells": [
    {
      "cell_type": "markdown",
      "metadata": {
        "id": "view-in-github",
        "colab_type": "text"
      },
      "source": [
        "<a href=\"https://colab.research.google.com/github/SoheilAkhavan/LeetCode/blob/master/53_Maximum_Subarray.ipynb\" target=\"_parent\"><img src=\"https://colab.research.google.com/assets/colab-badge.svg\" alt=\"Open In Colab\"/></a>"
      ]
    },
    {
      "metadata": {
        "id": "Takxy_cQKKNT",
        "colab_type": "text"
      },
      "cell_type": "markdown",
      "source": [
        "**53**. Maximum Subarray\n",
        "\n",
        "###Easy\n",
        "Given an integer array nums, find the contiguous subarray (containing at least one number) which has the largest sum and return its sum.\n",
        "\n",
        "Example:\n",
        "\n",
        "Input: [-2,1,-3,4,-1,2,1,-5,4],\n",
        "Output: 6\n",
        "Explanation: [4,-1,2,1] has the largest sum = 6.\n",
        "Follow up:\n",
        "\n",
        "####If you have figured out the O(n) solution, try coding another solution using the divide and conquer approach, which is more subtle.\n",
        "---\n",
        "\n",
        "\n",
        "NOTE:  Clear if local's sum is negative\n",
        "\n",
        "---"
      ]
    },
    {
      "metadata": {
        "id": "x9Lhs2MTKFHU",
        "colab_type": "code",
        "colab": {}
      },
      "cell_type": "code",
      "source": [
        "import sys\n",
        "class Solution(object):\n",
        "    def maxSubArray(self, nums):\n",
        "        \"\"\"\n",
        "        :type nums: List[int]\n",
        "        :rtype: int\n",
        "        \"\"\"\n",
        "        \n",
        "        max_int = -sys.maxint\n",
        "        curr = 0\n",
        "        \n",
        "        for n in nums:\n",
        "            curr += n\n",
        "            max_int = max(max_int, curr)\n",
        "            curr = max(curr, 0)\n",
        "            \n",
        "        return max_int"
      ],
      "execution_count": 0,
      "outputs": []
    }
  ]
}