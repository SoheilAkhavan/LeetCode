{
  "nbformat": 4,
  "nbformat_minor": 0,
  "metadata": {
    "colab": {
      "name": "49. Group Anagrams",
      "version": "0.3.2",
      "provenance": [],
      "include_colab_link": true
    },
    "kernelspec": {
      "name": "python3",
      "display_name": "Python 3"
    }
  },
  "cells": [
    {
      "cell_type": "markdown",
      "metadata": {
        "id": "view-in-github",
        "colab_type": "text"
      },
      "source": [
        "<a href=\"https://colab.research.google.com/github/SoheilAkhavan/LeetCode/blob/master/49_Group_Anagrams.ipynb\" target=\"_parent\"><img src=\"https://colab.research.google.com/assets/colab-badge.svg\" alt=\"Open In Colab\"/></a>"
      ]
    },
    {
      "metadata": {
        "id": "Tqlc7R2MBgTS",
        "colab_type": "text"
      },
      "cell_type": "markdown",
      "source": [
        "**49**. Group Anagrams\n",
        "\n",
        "###Medium\n",
        "Given an array of strings, group anagrams together.\n",
        "\n",
        "Example:\n",
        "\n",
        "Input: [\"eat\", \"tea\", \"tan\", \"ate\", \"nat\", \"bat\"],\n",
        "Output:\n",
        "[\n",
        "  [\"ate\",\"eat\",\"tea\"],\n",
        "  [\"nat\",\"tan\"],\n",
        "  [\"bat\"]\n",
        "]\n",
        "Note:\n",
        "\n",
        "All inputs will be in lowercase.\n",
        "The order of your output does not matter.\n",
        "\n",
        "---\n",
        "\n",
        "\n",
        "NOTE:  With a hash table, the key is the sorted word, and the value is the list of words.\n",
        "\n",
        "---"
      ]
    },
    {
      "metadata": {
        "id": "AbnciETFBY6G",
        "colab_type": "code",
        "colab": {}
      },
      "cell_type": "code",
      "source": [
        "class Solution(object):\n",
        "    def groupAnagrams(self, strs):\n",
        "        \"\"\"\n",
        "        :type strs: List[str]\n",
        "        :rtype: List[List[str]]\n",
        "        \"\"\"\n",
        "        if not strs:\n",
        "            return []\n",
        "        \n",
        "        rec = {}\n",
        "        \n",
        "        for s in strs:\n",
        "            ss = \"\".join(sorted(s))\n",
        "            rec[ss] = rec.get(ss, []) + [s]\n",
        "            \n",
        "        return rec.values()"
      ],
      "execution_count": 0,
      "outputs": []
    },
    {
      "metadata": {
        "id": "llhc-YoXCrPq",
        "colab_type": "code",
        "colab": {}
      },
      "cell_type": "code",
      "source": [
        ""
      ],
      "execution_count": 0,
      "outputs": []
    }
  ]
}