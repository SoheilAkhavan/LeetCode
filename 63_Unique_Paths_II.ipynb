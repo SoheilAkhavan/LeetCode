{
  "nbformat": 4,
  "nbformat_minor": 0,
  "metadata": {
    "colab": {
      "name": "63. Unique Paths II",
      "version": "0.3.2",
      "provenance": [],
      "include_colab_link": true
    },
    "kernelspec": {
      "name": "python3",
      "display_name": "Python 3"
    }
  },
  "cells": [
    {
      "cell_type": "markdown",
      "metadata": {
        "id": "view-in-github",
        "colab_type": "text"
      },
      "source": [
        "<a href=\"https://colab.research.google.com/github/SoheilAkhavan/LeetCode/blob/master/63_Unique_Paths_II.ipynb\" target=\"_parent\"><img src=\"https://colab.research.google.com/assets/colab-badge.svg\" alt=\"Open In Colab\"/></a>"
      ]
    },
    {
      "metadata": {
        "id": "gOBhTddc__ee",
        "colab_type": "text"
      },
      "cell_type": "markdown",
      "source": [
        "**63**. Unique Paths II\n",
        "\n",
        "###Medium\n",
        "A robot is located at the top-left corner of a m x n grid (marked 'Start' in the diagram below).\n",
        "\n",
        "The robot can only move either down or right at any point in time. The robot is trying to reach the bottom-right corner of the grid (marked 'Finish' in the diagram below).\n",
        "\n",
        "Now consider if some obstacles are added to the grids. How many unique paths would there be?\n",
        "\n",
        "\n",
        "\n",
        "An obstacle and empty space is marked as 1 and 0 respectively in the grid.\n",
        "\n",
        "Note: m and n will be at most 100.\n",
        "\n",
        "Example 1:\n",
        "\n",
        "Input:\n",
        "[\n",
        "  [0,0,0],\n",
        "  [0,1,0],\n",
        "  [0,0,0]\n",
        "]\n",
        "Output: 2\n",
        "Explanation:\n",
        "There is one obstacle in the middle of the 3x3 grid above.\n",
        "There are two ways to reach the bottom-right corner:\n",
        "1. Right -> Right -> Down -> Down\n",
        "2. Down -> Down -> Right -> Right\n",
        "\n",
        "---\n",
        "\n",
        "\n",
        "NOTE: \n",
        "\n",
        "---\n"
      ]
    },
    {
      "metadata": {
        "id": "rlhiVc8s_8Eh",
        "colab_type": "code",
        "colab": {}
      },
      "cell_type": "code",
      "source": [
        "class Solution(object):\n",
        "    def uniquePathsWithObstacles(self, obstacleGrid):\n",
        "        \"\"\"\n",
        "        :type obstacleGrid: List[List[int]]\n",
        "        :rtype: int\n",
        "        \"\"\"\n",
        "        \n",
        "        m, n = len(obstacleGrid), len(obstacleGrid[0])\n",
        "        \n",
        "        dp = [[0] * n for _ in range(m)]\n",
        "        \n",
        "        if obstacleGrid[0][0]:\n",
        "            return 0\n",
        "        else:\n",
        "            dp[0][0] = 1\n",
        "        for i in range(1,m):\n",
        "            if obstacleGrid[i][0]:\n",
        "                dp[i][0] = 0\n",
        "            else:\n",
        "                dp[i][0] = dp[i-1][0]\n",
        "                \n",
        "        \n",
        "        for j in range(1,n):\n",
        "            if obstacleGrid[0][j]:\n",
        "                dp[0][j] = 0\n",
        "            else:\n",
        "                dp[0][j] = dp[0][j-1]\n",
        "                \n",
        "        for i in range (1,m):\n",
        "            for j in range (1,n):\n",
        "                if obstacleGrid[i][j]:\n",
        "                    dp[i][j] = 0\n",
        "                else:\n",
        "                    dp[i][j] = dp[i-1][j] + dp[i][j-1]\n",
        "                    \n",
        "        return dp[m-1][n-1]\n",
        "        "
      ],
      "execution_count": 0,
      "outputs": []
    },
    {
      "metadata": {
        "id": "jzfM32cDPKUQ",
        "colab_type": "code",
        "colab": {}
      },
      "cell_type": "code",
      "source": [
        ""
      ],
      "execution_count": 0,
      "outputs": []
    }
  ]
}