{
  "nbformat": 4,
  "nbformat_minor": 0,
  "metadata": {
    "colab": {
      "name": "62. Unique Paths",
      "version": "0.3.2",
      "provenance": [],
      "include_colab_link": true
    },
    "kernelspec": {
      "name": "python3",
      "display_name": "Python 3"
    }
  },
  "cells": [
    {
      "cell_type": "markdown",
      "metadata": {
        "id": "view-in-github",
        "colab_type": "text"
      },
      "source": [
        "<a href=\"https://colab.research.google.com/github/SoheilAkhavan/LeetCode/blob/master/62_Unique_Paths.ipynb\" target=\"_parent\"><img src=\"https://colab.research.google.com/assets/colab-badge.svg\" alt=\"Open In Colab\"/></a>"
      ]
    },
    {
      "metadata": {
        "id": "p00LUQOcexXO",
        "colab_type": "text"
      },
      "cell_type": "markdown",
      "source": [
        "**62**. Unique Paths\n",
        "\n",
        "###Medium\n",
        "A robot is located at the top-left corner of a m x n grid (marked 'Start' in the diagram below).\n",
        "\n",
        "The robot can only move either down or right at any point in time. The robot is trying to reach the bottom-right corner of the grid (marked 'Finish' in the diagram below).\n",
        "\n",
        "How many possible unique paths are there?\n",
        "\n",
        "\n",
        "Above is a 7 x 3 grid. How many possible unique paths are there?\n",
        "\n",
        "Note: m and n will be at most 100.\n",
        "\n",
        "Example 1:\n",
        "\n",
        "Input: m = 3, n = 2\n",
        "Output: 3\n",
        "Explanation:\n",
        "From the top-left corner, there are a total of 3 ways to reach the bottom-right corner:\n",
        "1. Right -> Right -> Down\n",
        "2. Right -> Down -> Right\n",
        "3. Down -> Right -> Right\n",
        "Example 2:\n",
        "\n",
        "Input: m = 7, n = 3\n",
        "Output: 28\n",
        "\n",
        "\n",
        "---\n",
        "\n",
        "\n",
        "NOTE: \n",
        "\n",
        "---"
      ]
    },
    {
      "metadata": {
        "id": "uWuX-Or6esqd",
        "colab_type": "code",
        "colab": {}
      },
      "cell_type": "code",
      "source": [
        "class Solution(object):\n",
        "    def uniquePaths(self, m, n):\n",
        "        \"\"\"\n",
        "        :type m: int\n",
        "        :type n: int\n",
        "        :rtype: int\n",
        "        \"\"\"\n",
        "        if m < n:\n",
        "            n, m = m, n \n",
        "        \n",
        "        curr = m + n - 2\n",
        "        ans = 1\n",
        "        \n",
        "        while curr > m-1:\n",
        "            ans *= curr\n",
        "            curr -= 1\n",
        "        \n",
        "        curr = n - 1\n",
        "        while curr > 0:\n",
        "            ans /= curr\n",
        "            curr -= 1\n",
        "            \n",
        "        return ans\n",
        "        \n",
        "            "
      ],
      "execution_count": 0,
      "outputs": []
    },
    {
      "metadata": {
        "id": "QvIqHgbu_Mas",
        "colab_type": "code",
        "colab": {}
      },
      "cell_type": "code",
      "source": [
        ""
      ],
      "execution_count": 0,
      "outputs": []
    }
  ]
}